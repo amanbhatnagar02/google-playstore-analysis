{
 "cells": [
  {
   "cell_type": "code",
   "execution_count": 127,
   "id": "8e8d7c2e-5cbc-43db-a5dc-1f928cd63729",
   "metadata": {},
   "outputs": [],
   "source": [
    "import pandas as pd\n",
    "import numpy as np\n",
    "import matplotlib.pyplot as plt\n",
    "import seaborn as sns\n",
    "import warnings \n",
    "warnings.filterwarnings('ignore')"
   ]
  },
  {
   "cell_type": "code",
   "execution_count": 3,
   "id": "a58ef2b5-36cf-49d0-b597-6657b174a819",
   "metadata": {},
   "outputs": [],
   "source": [
    "df= pd.read_csv(\"googleplaystore.csv\")"
   ]
  },
  {
   "cell_type": "code",
   "execution_count": 4,
   "id": "ed4cef0f-77da-40a9-bbe9-aba2549c15b2",
   "metadata": {},
   "outputs": [
    {
     "data": {
      "text/html": [
       "<div>\n",
       "<style scoped>\n",
       "    .dataframe tbody tr th:only-of-type {\n",
       "        vertical-align: middle;\n",
       "    }\n",
       "\n",
       "    .dataframe tbody tr th {\n",
       "        vertical-align: top;\n",
       "    }\n",
       "\n",
       "    .dataframe thead th {\n",
       "        text-align: right;\n",
       "    }\n",
       "</style>\n",
       "<table border=\"1\" class=\"dataframe\">\n",
       "  <thead>\n",
       "    <tr style=\"text-align: right;\">\n",
       "      <th></th>\n",
       "      <th>App</th>\n",
       "      <th>Category</th>\n",
       "      <th>Rating</th>\n",
       "      <th>Reviews</th>\n",
       "      <th>Size</th>\n",
       "      <th>Installs</th>\n",
       "      <th>Type</th>\n",
       "      <th>Price</th>\n",
       "      <th>Content Rating</th>\n",
       "      <th>Genres</th>\n",
       "      <th>Last Updated</th>\n",
       "      <th>Current Ver</th>\n",
       "      <th>Android Ver</th>\n",
       "    </tr>\n",
       "  </thead>\n",
       "  <tbody>\n",
       "    <tr>\n",
       "      <th>0</th>\n",
       "      <td>Photo Editor &amp; Candy Camera &amp; Grid &amp; ScrapBook</td>\n",
       "      <td>ART_AND_DESIGN</td>\n",
       "      <td>4.1</td>\n",
       "      <td>159</td>\n",
       "      <td>19M</td>\n",
       "      <td>10,000+</td>\n",
       "      <td>Free</td>\n",
       "      <td>0</td>\n",
       "      <td>Everyone</td>\n",
       "      <td>Art &amp; Design</td>\n",
       "      <td>January 7, 2018</td>\n",
       "      <td>1.0.0</td>\n",
       "      <td>4.0.3 and up</td>\n",
       "    </tr>\n",
       "    <tr>\n",
       "      <th>1</th>\n",
       "      <td>Coloring book moana</td>\n",
       "      <td>ART_AND_DESIGN</td>\n",
       "      <td>3.9</td>\n",
       "      <td>967</td>\n",
       "      <td>14M</td>\n",
       "      <td>500,000+</td>\n",
       "      <td>Free</td>\n",
       "      <td>0</td>\n",
       "      <td>Everyone</td>\n",
       "      <td>Art &amp; Design;Pretend Play</td>\n",
       "      <td>January 15, 2018</td>\n",
       "      <td>2.0.0</td>\n",
       "      <td>4.0.3 and up</td>\n",
       "    </tr>\n",
       "    <tr>\n",
       "      <th>2</th>\n",
       "      <td>U Launcher Lite – FREE Live Cool Themes, Hide ...</td>\n",
       "      <td>ART_AND_DESIGN</td>\n",
       "      <td>4.7</td>\n",
       "      <td>87510</td>\n",
       "      <td>8.7M</td>\n",
       "      <td>5,000,000+</td>\n",
       "      <td>Free</td>\n",
       "      <td>0</td>\n",
       "      <td>Everyone</td>\n",
       "      <td>Art &amp; Design</td>\n",
       "      <td>August 1, 2018</td>\n",
       "      <td>1.2.4</td>\n",
       "      <td>4.0.3 and up</td>\n",
       "    </tr>\n",
       "    <tr>\n",
       "      <th>3</th>\n",
       "      <td>Sketch - Draw &amp; Paint</td>\n",
       "      <td>ART_AND_DESIGN</td>\n",
       "      <td>4.5</td>\n",
       "      <td>215644</td>\n",
       "      <td>25M</td>\n",
       "      <td>50,000,000+</td>\n",
       "      <td>Free</td>\n",
       "      <td>0</td>\n",
       "      <td>Teen</td>\n",
       "      <td>Art &amp; Design</td>\n",
       "      <td>June 8, 2018</td>\n",
       "      <td>Varies with device</td>\n",
       "      <td>4.2 and up</td>\n",
       "    </tr>\n",
       "    <tr>\n",
       "      <th>4</th>\n",
       "      <td>Pixel Draw - Number Art Coloring Book</td>\n",
       "      <td>ART_AND_DESIGN</td>\n",
       "      <td>4.3</td>\n",
       "      <td>967</td>\n",
       "      <td>2.8M</td>\n",
       "      <td>100,000+</td>\n",
       "      <td>Free</td>\n",
       "      <td>0</td>\n",
       "      <td>Everyone</td>\n",
       "      <td>Art &amp; Design;Creativity</td>\n",
       "      <td>June 20, 2018</td>\n",
       "      <td>1.1</td>\n",
       "      <td>4.4 and up</td>\n",
       "    </tr>\n",
       "    <tr>\n",
       "      <th>...</th>\n",
       "      <td>...</td>\n",
       "      <td>...</td>\n",
       "      <td>...</td>\n",
       "      <td>...</td>\n",
       "      <td>...</td>\n",
       "      <td>...</td>\n",
       "      <td>...</td>\n",
       "      <td>...</td>\n",
       "      <td>...</td>\n",
       "      <td>...</td>\n",
       "      <td>...</td>\n",
       "      <td>...</td>\n",
       "      <td>...</td>\n",
       "    </tr>\n",
       "    <tr>\n",
       "      <th>10836</th>\n",
       "      <td>Sya9a Maroc - FR</td>\n",
       "      <td>FAMILY</td>\n",
       "      <td>4.5</td>\n",
       "      <td>38</td>\n",
       "      <td>53M</td>\n",
       "      <td>5,000+</td>\n",
       "      <td>Free</td>\n",
       "      <td>0</td>\n",
       "      <td>Everyone</td>\n",
       "      <td>Education</td>\n",
       "      <td>July 25, 2017</td>\n",
       "      <td>1.48</td>\n",
       "      <td>4.1 and up</td>\n",
       "    </tr>\n",
       "    <tr>\n",
       "      <th>10837</th>\n",
       "      <td>Fr. Mike Schmitz Audio Teachings</td>\n",
       "      <td>FAMILY</td>\n",
       "      <td>5.0</td>\n",
       "      <td>4</td>\n",
       "      <td>3.6M</td>\n",
       "      <td>100+</td>\n",
       "      <td>Free</td>\n",
       "      <td>0</td>\n",
       "      <td>Everyone</td>\n",
       "      <td>Education</td>\n",
       "      <td>July 6, 2018</td>\n",
       "      <td>1.0</td>\n",
       "      <td>4.1 and up</td>\n",
       "    </tr>\n",
       "    <tr>\n",
       "      <th>10838</th>\n",
       "      <td>Parkinson Exercices FR</td>\n",
       "      <td>MEDICAL</td>\n",
       "      <td>NaN</td>\n",
       "      <td>3</td>\n",
       "      <td>9.5M</td>\n",
       "      <td>1,000+</td>\n",
       "      <td>Free</td>\n",
       "      <td>0</td>\n",
       "      <td>Everyone</td>\n",
       "      <td>Medical</td>\n",
       "      <td>January 20, 2017</td>\n",
       "      <td>1.0</td>\n",
       "      <td>2.2 and up</td>\n",
       "    </tr>\n",
       "    <tr>\n",
       "      <th>10839</th>\n",
       "      <td>The SCP Foundation DB fr nn5n</td>\n",
       "      <td>BOOKS_AND_REFERENCE</td>\n",
       "      <td>4.5</td>\n",
       "      <td>114</td>\n",
       "      <td>Varies with device</td>\n",
       "      <td>1,000+</td>\n",
       "      <td>Free</td>\n",
       "      <td>0</td>\n",
       "      <td>Mature 17+</td>\n",
       "      <td>Books &amp; Reference</td>\n",
       "      <td>January 19, 2015</td>\n",
       "      <td>Varies with device</td>\n",
       "      <td>Varies with device</td>\n",
       "    </tr>\n",
       "    <tr>\n",
       "      <th>10840</th>\n",
       "      <td>iHoroscope - 2018 Daily Horoscope &amp; Astrology</td>\n",
       "      <td>LIFESTYLE</td>\n",
       "      <td>4.5</td>\n",
       "      <td>398307</td>\n",
       "      <td>19M</td>\n",
       "      <td>10,000,000+</td>\n",
       "      <td>Free</td>\n",
       "      <td>0</td>\n",
       "      <td>Everyone</td>\n",
       "      <td>Lifestyle</td>\n",
       "      <td>July 25, 2018</td>\n",
       "      <td>Varies with device</td>\n",
       "      <td>Varies with device</td>\n",
       "    </tr>\n",
       "  </tbody>\n",
       "</table>\n",
       "<p>10841 rows × 13 columns</p>\n",
       "</div>"
      ],
      "text/plain": [
       "                                                     App             Category  \\\n",
       "0         Photo Editor & Candy Camera & Grid & ScrapBook       ART_AND_DESIGN   \n",
       "1                                    Coloring book moana       ART_AND_DESIGN   \n",
       "2      U Launcher Lite – FREE Live Cool Themes, Hide ...       ART_AND_DESIGN   \n",
       "3                                  Sketch - Draw & Paint       ART_AND_DESIGN   \n",
       "4                  Pixel Draw - Number Art Coloring Book       ART_AND_DESIGN   \n",
       "...                                                  ...                  ...   \n",
       "10836                                   Sya9a Maroc - FR               FAMILY   \n",
       "10837                   Fr. Mike Schmitz Audio Teachings               FAMILY   \n",
       "10838                             Parkinson Exercices FR              MEDICAL   \n",
       "10839                      The SCP Foundation DB fr nn5n  BOOKS_AND_REFERENCE   \n",
       "10840      iHoroscope - 2018 Daily Horoscope & Astrology            LIFESTYLE   \n",
       "\n",
       "       Rating Reviews                Size     Installs  Type Price  \\\n",
       "0         4.1     159                 19M      10,000+  Free     0   \n",
       "1         3.9     967                 14M     500,000+  Free     0   \n",
       "2         4.7   87510                8.7M   5,000,000+  Free     0   \n",
       "3         4.5  215644                 25M  50,000,000+  Free     0   \n",
       "4         4.3     967                2.8M     100,000+  Free     0   \n",
       "...       ...     ...                 ...          ...   ...   ...   \n",
       "10836     4.5      38                 53M       5,000+  Free     0   \n",
       "10837     5.0       4                3.6M         100+  Free     0   \n",
       "10838     NaN       3                9.5M       1,000+  Free     0   \n",
       "10839     4.5     114  Varies with device       1,000+  Free     0   \n",
       "10840     4.5  398307                 19M  10,000,000+  Free     0   \n",
       "\n",
       "      Content Rating                     Genres      Last Updated  \\\n",
       "0           Everyone               Art & Design   January 7, 2018   \n",
       "1           Everyone  Art & Design;Pretend Play  January 15, 2018   \n",
       "2           Everyone               Art & Design    August 1, 2018   \n",
       "3               Teen               Art & Design      June 8, 2018   \n",
       "4           Everyone    Art & Design;Creativity     June 20, 2018   \n",
       "...              ...                        ...               ...   \n",
       "10836       Everyone                  Education     July 25, 2017   \n",
       "10837       Everyone                  Education      July 6, 2018   \n",
       "10838       Everyone                    Medical  January 20, 2017   \n",
       "10839     Mature 17+          Books & Reference  January 19, 2015   \n",
       "10840       Everyone                  Lifestyle     July 25, 2018   \n",
       "\n",
       "              Current Ver         Android Ver  \n",
       "0                   1.0.0        4.0.3 and up  \n",
       "1                   2.0.0        4.0.3 and up  \n",
       "2                   1.2.4        4.0.3 and up  \n",
       "3      Varies with device          4.2 and up  \n",
       "4                     1.1          4.4 and up  \n",
       "...                   ...                 ...  \n",
       "10836                1.48          4.1 and up  \n",
       "10837                 1.0          4.1 and up  \n",
       "10838                 1.0          2.2 and up  \n",
       "10839  Varies with device  Varies with device  \n",
       "10840  Varies with device  Varies with device  \n",
       "\n",
       "[10841 rows x 13 columns]"
      ]
     },
     "execution_count": 4,
     "metadata": {},
     "output_type": "execute_result"
    }
   ],
   "source": [
    "df"
   ]
  },
  {
   "cell_type": "code",
   "execution_count": 5,
   "id": "1dd42c72-2941-484c-95f6-5b43691570c2",
   "metadata": {},
   "outputs": [
    {
     "data": {
      "text/plain": [
       "(10841, 13)"
      ]
     },
     "execution_count": 5,
     "metadata": {},
     "output_type": "execute_result"
    }
   ],
   "source": [
    "df.shape"
   ]
  },
  {
   "cell_type": "code",
   "execution_count": 6,
   "id": "a2db2c7d-8056-42fb-9f27-666311896656",
   "metadata": {},
   "outputs": [
    {
     "data": {
      "text/html": [
       "<div>\n",
       "<style scoped>\n",
       "    .dataframe tbody tr th:only-of-type {\n",
       "        vertical-align: middle;\n",
       "    }\n",
       "\n",
       "    .dataframe tbody tr th {\n",
       "        vertical-align: top;\n",
       "    }\n",
       "\n",
       "    .dataframe thead th {\n",
       "        text-align: right;\n",
       "    }\n",
       "</style>\n",
       "<table border=\"1\" class=\"dataframe\">\n",
       "  <thead>\n",
       "    <tr style=\"text-align: right;\">\n",
       "      <th></th>\n",
       "      <th>App</th>\n",
       "      <th>Category</th>\n",
       "      <th>Rating</th>\n",
       "      <th>Reviews</th>\n",
       "      <th>Size</th>\n",
       "      <th>Installs</th>\n",
       "      <th>Type</th>\n",
       "      <th>Price</th>\n",
       "      <th>Content Rating</th>\n",
       "      <th>Genres</th>\n",
       "      <th>Last Updated</th>\n",
       "      <th>Current Ver</th>\n",
       "      <th>Android Ver</th>\n",
       "    </tr>\n",
       "  </thead>\n",
       "  <tbody>\n",
       "  </tbody>\n",
       "</table>\n",
       "</div>"
      ],
      "text/plain": [
       "Empty DataFrame\n",
       "Columns: [App, Category, Rating, Reviews, Size, Installs, Type, Price, Content Rating, Genres, Last Updated, Current Ver, Android Ver]\n",
       "Index: []"
      ]
     },
     "execution_count": 6,
     "metadata": {},
     "output_type": "execute_result"
    }
   ],
   "source": [
    "df[~df[\"Category\"].apply(lambda x: isinstance(x,str))]"
   ]
  },
  {
   "cell_type": "code",
   "execution_count": 7,
   "id": "b52e7cb4-f934-4d63-888e-afd18bd89cd2",
   "metadata": {},
   "outputs": [
    {
     "data": {
      "text/html": [
       "<div>\n",
       "<style scoped>\n",
       "    .dataframe tbody tr th:only-of-type {\n",
       "        vertical-align: middle;\n",
       "    }\n",
       "\n",
       "    .dataframe tbody tr th {\n",
       "        vertical-align: top;\n",
       "    }\n",
       "\n",
       "    .dataframe thead th {\n",
       "        text-align: right;\n",
       "    }\n",
       "</style>\n",
       "<table border=\"1\" class=\"dataframe\">\n",
       "  <thead>\n",
       "    <tr style=\"text-align: right;\">\n",
       "      <th></th>\n",
       "      <th>App</th>\n",
       "      <th>Category</th>\n",
       "      <th>Rating</th>\n",
       "      <th>Reviews</th>\n",
       "      <th>Size</th>\n",
       "      <th>Installs</th>\n",
       "      <th>Type</th>\n",
       "      <th>Price</th>\n",
       "      <th>Content Rating</th>\n",
       "      <th>Genres</th>\n",
       "      <th>Last Updated</th>\n",
       "      <th>Current Ver</th>\n",
       "      <th>Android Ver</th>\n",
       "    </tr>\n",
       "  </thead>\n",
       "  <tbody>\n",
       "  </tbody>\n",
       "</table>\n",
       "</div>"
      ],
      "text/plain": [
       "Empty DataFrame\n",
       "Columns: [App, Category, Rating, Reviews, Size, Installs, Type, Price, Content Rating, Genres, Last Updated, Current Ver, Android Ver]\n",
       "Index: []"
      ]
     },
     "execution_count": 7,
     "metadata": {},
     "output_type": "execute_result"
    }
   ],
   "source": [
    "df[df.Category.str.isnumeric()]"
   ]
  },
  {
   "cell_type": "code",
   "execution_count": 8,
   "id": "c6aa84a0-714e-4102-8bb8-69765b773ec0",
   "metadata": {},
   "outputs": [],
   "source": [
    "df_copy= df.copy()"
   ]
  },
  {
   "cell_type": "code",
   "execution_count": 9,
   "id": "695048d0-bf63-440f-8cc1-e6636f0c902a",
   "metadata": {},
   "outputs": [
    {
     "data": {
      "text/plain": [
       "np.int64(483)"
      ]
     },
     "execution_count": 9,
     "metadata": {},
     "output_type": "execute_result"
    }
   ],
   "source": [
    "df_copy.duplicated().sum()"
   ]
  },
  {
   "cell_type": "code",
   "execution_count": 10,
   "id": "a4eeb480-d0a4-48be-9f00-50224d4bd3c4",
   "metadata": {},
   "outputs": [],
   "source": [
    "df_copy=df_copy.drop_duplicates()"
   ]
  },
  {
   "cell_type": "code",
   "execution_count": 11,
   "id": "9ec040e2-1df1-44b9-a877-5e5a841a1bc4",
   "metadata": {},
   "outputs": [
    {
     "data": {
      "text/plain": [
       "np.int64(0)"
      ]
     },
     "execution_count": 11,
     "metadata": {},
     "output_type": "execute_result"
    }
   ],
   "source": [
    "df_copy.duplicated().sum()"
   ]
  },
  {
   "cell_type": "code",
   "execution_count": 12,
   "id": "759f988f-0069-4fb7-b8c1-5e50c290bd64",
   "metadata": {},
   "outputs": [
    {
     "name": "stdout",
     "output_type": "stream",
     "text": [
      "<class 'pandas.core.frame.DataFrame'>\n",
      "Index: 10358 entries, 0 to 10840\n",
      "Data columns (total 13 columns):\n",
      " #   Column          Non-Null Count  Dtype  \n",
      "---  ------          --------------  -----  \n",
      " 0   App             10358 non-null  object \n",
      " 1   Category        10358 non-null  object \n",
      " 2   Rating          8893 non-null   float64\n",
      " 3   Reviews         10358 non-null  object \n",
      " 4   Size            10358 non-null  object \n",
      " 5   Installs        10358 non-null  object \n",
      " 6   Type            10357 non-null  object \n",
      " 7   Price           10358 non-null  object \n",
      " 8   Content Rating  10357 non-null  object \n",
      " 9   Genres          10358 non-null  object \n",
      " 10  Last Updated    10358 non-null  object \n",
      " 11  Current Ver     10350 non-null  object \n",
      " 12  Android Ver     10355 non-null  object \n",
      "dtypes: float64(1), object(12)\n",
      "memory usage: 1.1+ MB\n"
     ]
    }
   ],
   "source": [
    "df_copy.info()"
   ]
  },
  {
   "cell_type": "code",
   "execution_count": 13,
   "id": "fc3c0cf2-4aa8-47f6-aad1-e9bfb1a22db9",
   "metadata": {},
   "outputs": [
    {
     "data": {
      "text/plain": [
       "(10358, 13)"
      ]
     },
     "execution_count": 13,
     "metadata": {},
     "output_type": "execute_result"
    }
   ],
   "source": [
    "df_copy.shape"
   ]
  },
  {
   "cell_type": "code",
   "execution_count": 14,
   "id": "191e507e-f331-4668-9ea2-8d9bf0878223",
   "metadata": {},
   "outputs": [
    {
     "data": {
      "text/plain": [
       "(10841, 13)"
      ]
     },
     "execution_count": 14,
     "metadata": {},
     "output_type": "execute_result"
    }
   ],
   "source": [
    "df.shape"
   ]
  },
  {
   "cell_type": "code",
   "execution_count": 15,
   "id": "b1d4aae4-2a8a-4382-9ed0-744f0ed3ebfc",
   "metadata": {},
   "outputs": [],
   "source": [
    "df_copy.reset_index(drop =True,inplace =True)"
   ]
  },
  {
   "cell_type": "code",
   "execution_count": 16,
   "id": "e32b3c8a-11c6-42b1-a656-12d62845e654",
   "metadata": {},
   "outputs": [
    {
     "data": {
      "text/html": [
       "<div>\n",
       "<style scoped>\n",
       "    .dataframe tbody tr th:only-of-type {\n",
       "        vertical-align: middle;\n",
       "    }\n",
       "\n",
       "    .dataframe tbody tr th {\n",
       "        vertical-align: top;\n",
       "    }\n",
       "\n",
       "    .dataframe thead th {\n",
       "        text-align: right;\n",
       "    }\n",
       "</style>\n",
       "<table border=\"1\" class=\"dataframe\">\n",
       "  <thead>\n",
       "    <tr style=\"text-align: right;\">\n",
       "      <th></th>\n",
       "      <th>App</th>\n",
       "      <th>Category</th>\n",
       "      <th>Rating</th>\n",
       "      <th>Reviews</th>\n",
       "      <th>Size</th>\n",
       "      <th>Installs</th>\n",
       "      <th>Type</th>\n",
       "      <th>Price</th>\n",
       "      <th>Content Rating</th>\n",
       "      <th>Genres</th>\n",
       "      <th>Last Updated</th>\n",
       "      <th>Current Ver</th>\n",
       "      <th>Android Ver</th>\n",
       "    </tr>\n",
       "  </thead>\n",
       "  <tbody>\n",
       "    <tr>\n",
       "      <th>9990</th>\n",
       "      <td>Life Made WI-Fi Touchscreen Photo Frame</td>\n",
       "      <td>1.9</td>\n",
       "      <td>19.0</td>\n",
       "      <td>3.0M</td>\n",
       "      <td>1,000+</td>\n",
       "      <td>Free</td>\n",
       "      <td>0</td>\n",
       "      <td>Everyone</td>\n",
       "      <td>NaN</td>\n",
       "      <td>February 11, 2018</td>\n",
       "      <td>1.0.19</td>\n",
       "      <td>4.0 and up</td>\n",
       "      <td>NaN</td>\n",
       "    </tr>\n",
       "  </tbody>\n",
       "</table>\n",
       "</div>"
      ],
      "text/plain": [
       "                                          App Category  Rating Reviews  \\\n",
       "9990  Life Made WI-Fi Touchscreen Photo Frame      1.9    19.0    3.0M   \n",
       "\n",
       "        Size Installs Type     Price Content Rating             Genres  \\\n",
       "9990  1,000+     Free    0  Everyone            NaN  February 11, 2018   \n",
       "\n",
       "     Last Updated Current Ver Android Ver  \n",
       "9990       1.0.19  4.0 and up         NaN  "
      ]
     },
     "execution_count": 16,
     "metadata": {},
     "output_type": "execute_result"
    }
   ],
   "source": [
    "df_copy[~df_copy.Reviews.str.isnumeric()]"
   ]
  },
  {
   "cell_type": "code",
   "execution_count": 17,
   "id": "b53abce9-a643-439a-9bf9-982fdb1bcf8c",
   "metadata": {},
   "outputs": [],
   "source": [
    "df_copy=df_copy.drop(df_copy.index[9990])"
   ]
  },
  {
   "cell_type": "code",
   "execution_count": 18,
   "id": "ebb23036-c60a-4d41-b8a0-542ce712e1c1",
   "metadata": {},
   "outputs": [],
   "source": [
    "df_copy[\"Reviews\"] = df_copy[\"Reviews\"].astype(int)"
   ]
  },
  {
   "cell_type": "code",
   "execution_count": 19,
   "id": "a6691805-6e1e-4582-915c-3a911e7fe938",
   "metadata": {},
   "outputs": [
    {
     "data": {
      "text/html": [
       "<div>\n",
       "<style scoped>\n",
       "    .dataframe tbody tr th:only-of-type {\n",
       "        vertical-align: middle;\n",
       "    }\n",
       "\n",
       "    .dataframe tbody tr th {\n",
       "        vertical-align: top;\n",
       "    }\n",
       "\n",
       "    .dataframe thead th {\n",
       "        text-align: right;\n",
       "    }\n",
       "</style>\n",
       "<table border=\"1\" class=\"dataframe\">\n",
       "  <thead>\n",
       "    <tr style=\"text-align: right;\">\n",
       "      <th></th>\n",
       "      <th>App</th>\n",
       "      <th>Category</th>\n",
       "      <th>Rating</th>\n",
       "      <th>Reviews</th>\n",
       "      <th>Size</th>\n",
       "      <th>Installs</th>\n",
       "      <th>Type</th>\n",
       "      <th>Price</th>\n",
       "      <th>Content Rating</th>\n",
       "      <th>Genres</th>\n",
       "      <th>Last Updated</th>\n",
       "      <th>Current Ver</th>\n",
       "      <th>Android Ver</th>\n",
       "    </tr>\n",
       "  </thead>\n",
       "  <tbody>\n",
       "    <tr>\n",
       "      <th>0</th>\n",
       "      <td>Photo Editor &amp; Candy Camera &amp; Grid &amp; ScrapBook</td>\n",
       "      <td>ART_AND_DESIGN</td>\n",
       "      <td>4.1</td>\n",
       "      <td>159</td>\n",
       "      <td>19M</td>\n",
       "      <td>10,000+</td>\n",
       "      <td>Free</td>\n",
       "      <td>0</td>\n",
       "      <td>Everyone</td>\n",
       "      <td>Art &amp; Design</td>\n",
       "      <td>January 7, 2018</td>\n",
       "      <td>1.0.0</td>\n",
       "      <td>4.0.3 and up</td>\n",
       "    </tr>\n",
       "    <tr>\n",
       "      <th>1</th>\n",
       "      <td>Coloring book moana</td>\n",
       "      <td>ART_AND_DESIGN</td>\n",
       "      <td>3.9</td>\n",
       "      <td>967</td>\n",
       "      <td>14M</td>\n",
       "      <td>500,000+</td>\n",
       "      <td>Free</td>\n",
       "      <td>0</td>\n",
       "      <td>Everyone</td>\n",
       "      <td>Art &amp; Design;Pretend Play</td>\n",
       "      <td>January 15, 2018</td>\n",
       "      <td>2.0.0</td>\n",
       "      <td>4.0.3 and up</td>\n",
       "    </tr>\n",
       "    <tr>\n",
       "      <th>2</th>\n",
       "      <td>U Launcher Lite – FREE Live Cool Themes, Hide ...</td>\n",
       "      <td>ART_AND_DESIGN</td>\n",
       "      <td>4.7</td>\n",
       "      <td>87510</td>\n",
       "      <td>8.7M</td>\n",
       "      <td>5,000,000+</td>\n",
       "      <td>Free</td>\n",
       "      <td>0</td>\n",
       "      <td>Everyone</td>\n",
       "      <td>Art &amp; Design</td>\n",
       "      <td>August 1, 2018</td>\n",
       "      <td>1.2.4</td>\n",
       "      <td>4.0.3 and up</td>\n",
       "    </tr>\n",
       "    <tr>\n",
       "      <th>3</th>\n",
       "      <td>Sketch - Draw &amp; Paint</td>\n",
       "      <td>ART_AND_DESIGN</td>\n",
       "      <td>4.5</td>\n",
       "      <td>215644</td>\n",
       "      <td>25M</td>\n",
       "      <td>50,000,000+</td>\n",
       "      <td>Free</td>\n",
       "      <td>0</td>\n",
       "      <td>Teen</td>\n",
       "      <td>Art &amp; Design</td>\n",
       "      <td>June 8, 2018</td>\n",
       "      <td>Varies with device</td>\n",
       "      <td>4.2 and up</td>\n",
       "    </tr>\n",
       "    <tr>\n",
       "      <th>4</th>\n",
       "      <td>Pixel Draw - Number Art Coloring Book</td>\n",
       "      <td>ART_AND_DESIGN</td>\n",
       "      <td>4.3</td>\n",
       "      <td>967</td>\n",
       "      <td>2.8M</td>\n",
       "      <td>100,000+</td>\n",
       "      <td>Free</td>\n",
       "      <td>0</td>\n",
       "      <td>Everyone</td>\n",
       "      <td>Art &amp; Design;Creativity</td>\n",
       "      <td>June 20, 2018</td>\n",
       "      <td>1.1</td>\n",
       "      <td>4.4 and up</td>\n",
       "    </tr>\n",
       "    <tr>\n",
       "      <th>...</th>\n",
       "      <td>...</td>\n",
       "      <td>...</td>\n",
       "      <td>...</td>\n",
       "      <td>...</td>\n",
       "      <td>...</td>\n",
       "      <td>...</td>\n",
       "      <td>...</td>\n",
       "      <td>...</td>\n",
       "      <td>...</td>\n",
       "      <td>...</td>\n",
       "      <td>...</td>\n",
       "      <td>...</td>\n",
       "      <td>...</td>\n",
       "    </tr>\n",
       "    <tr>\n",
       "      <th>10353</th>\n",
       "      <td>Sya9a Maroc - FR</td>\n",
       "      <td>FAMILY</td>\n",
       "      <td>4.5</td>\n",
       "      <td>38</td>\n",
       "      <td>53M</td>\n",
       "      <td>5,000+</td>\n",
       "      <td>Free</td>\n",
       "      <td>0</td>\n",
       "      <td>Everyone</td>\n",
       "      <td>Education</td>\n",
       "      <td>July 25, 2017</td>\n",
       "      <td>1.48</td>\n",
       "      <td>4.1 and up</td>\n",
       "    </tr>\n",
       "    <tr>\n",
       "      <th>10354</th>\n",
       "      <td>Fr. Mike Schmitz Audio Teachings</td>\n",
       "      <td>FAMILY</td>\n",
       "      <td>5.0</td>\n",
       "      <td>4</td>\n",
       "      <td>3.6M</td>\n",
       "      <td>100+</td>\n",
       "      <td>Free</td>\n",
       "      <td>0</td>\n",
       "      <td>Everyone</td>\n",
       "      <td>Education</td>\n",
       "      <td>July 6, 2018</td>\n",
       "      <td>1.0</td>\n",
       "      <td>4.1 and up</td>\n",
       "    </tr>\n",
       "    <tr>\n",
       "      <th>10355</th>\n",
       "      <td>Parkinson Exercices FR</td>\n",
       "      <td>MEDICAL</td>\n",
       "      <td>NaN</td>\n",
       "      <td>3</td>\n",
       "      <td>9.5M</td>\n",
       "      <td>1,000+</td>\n",
       "      <td>Free</td>\n",
       "      <td>0</td>\n",
       "      <td>Everyone</td>\n",
       "      <td>Medical</td>\n",
       "      <td>January 20, 2017</td>\n",
       "      <td>1.0</td>\n",
       "      <td>2.2 and up</td>\n",
       "    </tr>\n",
       "    <tr>\n",
       "      <th>10356</th>\n",
       "      <td>The SCP Foundation DB fr nn5n</td>\n",
       "      <td>BOOKS_AND_REFERENCE</td>\n",
       "      <td>4.5</td>\n",
       "      <td>114</td>\n",
       "      <td>Varies with device</td>\n",
       "      <td>1,000+</td>\n",
       "      <td>Free</td>\n",
       "      <td>0</td>\n",
       "      <td>Mature 17+</td>\n",
       "      <td>Books &amp; Reference</td>\n",
       "      <td>January 19, 2015</td>\n",
       "      <td>Varies with device</td>\n",
       "      <td>Varies with device</td>\n",
       "    </tr>\n",
       "    <tr>\n",
       "      <th>10357</th>\n",
       "      <td>iHoroscope - 2018 Daily Horoscope &amp; Astrology</td>\n",
       "      <td>LIFESTYLE</td>\n",
       "      <td>4.5</td>\n",
       "      <td>398307</td>\n",
       "      <td>19M</td>\n",
       "      <td>10,000,000+</td>\n",
       "      <td>Free</td>\n",
       "      <td>0</td>\n",
       "      <td>Everyone</td>\n",
       "      <td>Lifestyle</td>\n",
       "      <td>July 25, 2018</td>\n",
       "      <td>Varies with device</td>\n",
       "      <td>Varies with device</td>\n",
       "    </tr>\n",
       "  </tbody>\n",
       "</table>\n",
       "<p>10357 rows × 13 columns</p>\n",
       "</div>"
      ],
      "text/plain": [
       "                                                     App             Category  \\\n",
       "0         Photo Editor & Candy Camera & Grid & ScrapBook       ART_AND_DESIGN   \n",
       "1                                    Coloring book moana       ART_AND_DESIGN   \n",
       "2      U Launcher Lite – FREE Live Cool Themes, Hide ...       ART_AND_DESIGN   \n",
       "3                                  Sketch - Draw & Paint       ART_AND_DESIGN   \n",
       "4                  Pixel Draw - Number Art Coloring Book       ART_AND_DESIGN   \n",
       "...                                                  ...                  ...   \n",
       "10353                                   Sya9a Maroc - FR               FAMILY   \n",
       "10354                   Fr. Mike Schmitz Audio Teachings               FAMILY   \n",
       "10355                             Parkinson Exercices FR              MEDICAL   \n",
       "10356                      The SCP Foundation DB fr nn5n  BOOKS_AND_REFERENCE   \n",
       "10357      iHoroscope - 2018 Daily Horoscope & Astrology            LIFESTYLE   \n",
       "\n",
       "       Rating  Reviews                Size     Installs  Type Price  \\\n",
       "0         4.1      159                 19M      10,000+  Free     0   \n",
       "1         3.9      967                 14M     500,000+  Free     0   \n",
       "2         4.7    87510                8.7M   5,000,000+  Free     0   \n",
       "3         4.5   215644                 25M  50,000,000+  Free     0   \n",
       "4         4.3      967                2.8M     100,000+  Free     0   \n",
       "...       ...      ...                 ...          ...   ...   ...   \n",
       "10353     4.5       38                 53M       5,000+  Free     0   \n",
       "10354     5.0        4                3.6M         100+  Free     0   \n",
       "10355     NaN        3                9.5M       1,000+  Free     0   \n",
       "10356     4.5      114  Varies with device       1,000+  Free     0   \n",
       "10357     4.5   398307                 19M  10,000,000+  Free     0   \n",
       "\n",
       "      Content Rating                     Genres      Last Updated  \\\n",
       "0           Everyone               Art & Design   January 7, 2018   \n",
       "1           Everyone  Art & Design;Pretend Play  January 15, 2018   \n",
       "2           Everyone               Art & Design    August 1, 2018   \n",
       "3               Teen               Art & Design      June 8, 2018   \n",
       "4           Everyone    Art & Design;Creativity     June 20, 2018   \n",
       "...              ...                        ...               ...   \n",
       "10353       Everyone                  Education     July 25, 2017   \n",
       "10354       Everyone                  Education      July 6, 2018   \n",
       "10355       Everyone                    Medical  January 20, 2017   \n",
       "10356     Mature 17+          Books & Reference  January 19, 2015   \n",
       "10357       Everyone                  Lifestyle     July 25, 2018   \n",
       "\n",
       "              Current Ver         Android Ver  \n",
       "0                   1.0.0        4.0.3 and up  \n",
       "1                   2.0.0        4.0.3 and up  \n",
       "2                   1.2.4        4.0.3 and up  \n",
       "3      Varies with device          4.2 and up  \n",
       "4                     1.1          4.4 and up  \n",
       "...                   ...                 ...  \n",
       "10353                1.48          4.1 and up  \n",
       "10354                 1.0          4.1 and up  \n",
       "10355                 1.0          2.2 and up  \n",
       "10356  Varies with device  Varies with device  \n",
       "10357  Varies with device  Varies with device  \n",
       "\n",
       "[10357 rows x 13 columns]"
      ]
     },
     "execution_count": 19,
     "metadata": {},
     "output_type": "execute_result"
    }
   ],
   "source": [
    "df_copy"
   ]
  },
  {
   "cell_type": "code",
   "execution_count": 20,
   "id": "3c33bb0a-077e-4ae1-8212-096cd21f7d55",
   "metadata": {},
   "outputs": [
    {
     "data": {
      "text/plain": [
       "dtype('int64')"
      ]
     },
     "execution_count": 20,
     "metadata": {},
     "output_type": "execute_result"
    }
   ],
   "source": [
    "df_copy.Reviews.dtype"
   ]
  },
  {
   "cell_type": "code",
   "execution_count": 21,
   "id": "d4676f87-1536-4f73-9474-c1530745b79f",
   "metadata": {},
   "outputs": [
    {
     "name": "stdout",
     "output_type": "stream",
     "text": [
      "<class 'pandas.core.frame.DataFrame'>\n",
      "Index: 10357 entries, 0 to 10357\n",
      "Data columns (total 13 columns):\n",
      " #   Column          Non-Null Count  Dtype  \n",
      "---  ------          --------------  -----  \n",
      " 0   App             10357 non-null  object \n",
      " 1   Category        10357 non-null  object \n",
      " 2   Rating          8892 non-null   float64\n",
      " 3   Reviews         10357 non-null  int64  \n",
      " 4   Size            10357 non-null  object \n",
      " 5   Installs        10357 non-null  object \n",
      " 6   Type            10356 non-null  object \n",
      " 7   Price           10357 non-null  object \n",
      " 8   Content Rating  10357 non-null  object \n",
      " 9   Genres          10357 non-null  object \n",
      " 10  Last Updated    10357 non-null  object \n",
      " 11  Current Ver     10349 non-null  object \n",
      " 12  Android Ver     10355 non-null  object \n",
      "dtypes: float64(1), int64(1), object(11)\n",
      "memory usage: 1.1+ MB\n"
     ]
    }
   ],
   "source": [
    "df_copy.info()"
   ]
  },
  {
   "cell_type": "code",
   "execution_count": 22,
   "id": "291084a5-e864-4782-8e4a-c3817f8565b8",
   "metadata": {},
   "outputs": [
    {
     "data": {
      "text/plain": [
       "0        False\n",
       "1        False\n",
       "2        False\n",
       "3        False\n",
       "4        False\n",
       "         ...  \n",
       "10353    False\n",
       "10354    False\n",
       "10355    False\n",
       "10356    False\n",
       "10357    False\n",
       "Name: Size, Length: 10357, dtype: bool"
      ]
     },
     "execution_count": 22,
     "metadata": {},
     "output_type": "execute_result"
    }
   ],
   "source": [
    "df_copy[\"Size\"].str.isnumeric()"
   ]
  },
  {
   "cell_type": "code",
   "execution_count": 23,
   "id": "c7f8d751-82f3-4ee5-9bfc-a9e2a0843a03",
   "metadata": {},
   "outputs": [],
   "source": [
    "def size_process(item):\n",
    "    if str(item)[-1]==\"M\":\n",
    "        res= float(str(item).replace(\"M\",\"\"))\n",
    "        res = res*1024\n",
    "        return res\n",
    "    elif str(item)[-1]==\"k\":\n",
    "        res= float(str(item).replace(\"k\",\"\"))\n",
    "        return res\n",
    "\n",
    "    else: return str(np.nan)"
   ]
  },
  {
   "cell_type": "code",
   "execution_count": 24,
   "id": "cff9fda2-c58a-40c7-a4c9-39e0efeb3a04",
   "metadata": {},
   "outputs": [
    {
     "data": {
      "text/plain": [
       "14336.0"
      ]
     },
     "execution_count": 24,
     "metadata": {},
     "output_type": "execute_result"
    }
   ],
   "source": [
    "size_process(\"14M\")"
   ]
  },
  {
   "cell_type": "code",
   "execution_count": 25,
   "id": "61e3bf8b-3df8-40b8-8c0d-7a13d7fdaf3b",
   "metadata": {},
   "outputs": [],
   "source": [
    "df_copy[\"Size\"]= df_copy[\"Size\"].apply(size_process)"
   ]
  },
  {
   "cell_type": "code",
   "execution_count": 26,
   "id": "073d35b6-ba9e-47be-b516-c3589ae58a9a",
   "metadata": {},
   "outputs": [
    {
     "data": {
      "text/plain": [
       "array([19456.0, 14336.0, 8908.8, 25600.0, 2867.2, 5734.4, 29696.0,\n",
       "       33792.0, 3174.4, 28672.0, 12288.0, 20480.0, 21504.0, 37888.0,\n",
       "       2764.8, 5632.0, 17408.0, 39936.0, 31744.0, 4300.8, 7168.0, 23552.0,\n",
       "       6144.0, 6246.4, 4710.4, 9420.8, 5324.8, 11264.0, 24576.0, 'nan',\n",
       "       9625.6, 15360.0, 10240.0, 1228.8, 26624.0, 8192.0, 8089.6, 57344.0,\n",
       "       58368.0, 35840.0, 55296.0, 201.0, 3686.4, 5836.8, 8806.4, 2457.6,\n",
       "       27648.0, 2560.0, 16384.0, 3481.6, 9113.6, 3993.6, 2969.6, 38912.0,\n",
       "       32768.0, 5529.6, 18432.0, 1126.4, 2252.8, 4608.0, 10035.2, 53248.0,\n",
       "       9216.0, 6860.8, 30720.0, 2662.4, 7270.4, 3788.8, 22528.0, 7577.6,\n",
       "       6553.6, 3276.8, 8396.8, 10137.6, 5017.6, 9728.0, 5120.0, 6041.6,\n",
       "       13312.0, 74752.0, 6963.2, 3584.0, 4096.0, 2355.2, 7372.8, 2150.4,\n",
       "       43008.0, 7475.2, 9318.4, 56320.0, 23.0, 6656.0, 1536.0, 7680.0,\n",
       "       52224.0, 41984.0, 49152.0, 8704.0, 47104.0, 8499.2, 4403.2, 4812.8,\n",
       "       3379.2, 40960.0, 7987.2, 9011.2, 6758.4, 5222.4, 62464.0, 67584.0,\n",
       "       79.0, 8601.6, 118.0, 45056.0, 695.0, 1638.4, 6348.8, 18.0, 54272.0,\n",
       "       1433.6, 3072.0, 5939.2, 3891.2, 9830.4, 46080.0, 64512.0, 50176.0,\n",
       "       78848.0, 4505.6, 4915.2, 71680.0, 7065.6, 9523.2, 8294.4, 36864.0,\n",
       "       86016.0, 99328.0, 2048.0, 1945.6, 1843.2, 5427.2, 48128.0, 556.0,\n",
       "       526.0, 77824.0, 7782.4, 60416.0, 9932.8, 79872.0, 73728.0, 44032.0,\n",
       "       7884.8, 6451.2, 334.0, 34816.0, 95232.0, 66560.0, 80896.0,\n",
       "       102400.0, 59392.0, 51200.0, 69632.0, 65536.0, 68608.0, 61440.0,\n",
       "       96256.0, 232.0, 101376.0, 624.0, 97280.0, 8.5, 41.0, 292.0, 11.0,\n",
       "       81920.0, 1740.8, 75776.0, 63488.0, 70656.0, 76800.0, 100352.0,\n",
       "       87040.0, 83968.0, 98304.0, 89088.0, 72704.0, 88064.0, 93184.0,\n",
       "       82944.0, 94208.0, 84992.0, 90112.0, 704.0, 862.0, 899.0, 378.0,\n",
       "       266.0, 375.0, 1331.2, 975.0, 980.0, 4198.4, 91136.0, 696.0, 544.0,\n",
       "       525.0, 920.0, 779.0, 853.0, 720.0, 713.0, 772.0, 318.0, 58.0,\n",
       "       241.0, 196.0, 857.0, 51.0, 953.0, 865.0, 251.0, 930.0, 540.0,\n",
       "       313.0, 746.0, 203.0, 26.0, 314.0, 239.0, 371.0, 220.0, 730.0,\n",
       "       756.0, 91.0, 293.0, 17.0, 74.0, 14.0, 317.0, 78.0, 924.0, 902.0,\n",
       "       818.0, 81.0, 939.0, 169.0, 45.0, 475.0, 965.0, 92160.0, 545.0,\n",
       "       61.0, 283.0, 655.0, 714.0, 93.0, 872.0, 121.0, 322.0, 1024.0,\n",
       "       976.0, 172.0, 238.0, 549.0, 206.0, 954.0, 444.0, 717.0, 210.0,\n",
       "       609.0, 308.0, 705.0, 306.0, 904.0, 473.0, 175.0, 350.0, 383.0,\n",
       "       454.0, 421.0, 70.0, 812.0, 442.0, 842.0, 417.0, 412.0, 459.0,\n",
       "       478.0, 335.0, 782.0, 721.0, 430.0, 429.0, 192.0, 200.0, 460.0,\n",
       "       728.0, 496.0, 816.0, 414.0, 506.0, 887.0, 613.0, 243.0, 569.0,\n",
       "       778.0, 683.0, 592.0, 319.0, 186.0, 840.0, 647.0, 191.0, 373.0,\n",
       "       437.0, 598.0, 716.0, 585.0, 982.0, 222.0, 219.0, 55.0, 948.0,\n",
       "       323.0, 691.0, 511.0, 951.0, 963.0, 25.0, 554.0, 351.0, 27.0, 82.0,\n",
       "       208.0, 913.0, 514.0, 551.0, 29.0, 103.0, 898.0, 743.0, 116.0,\n",
       "       153.0, 209.0, 353.0, 499.0, 173.0, 597.0, 809.0, 122.0, 411.0,\n",
       "       400.0, 801.0, 787.0, 237.0, 50.0, 643.0, 986.0, 97.0, 516.0, 837.0,\n",
       "       780.0, 961.0, 269.0, 20.0, 498.0, 600.0, 749.0, 642.0, 881.0, 72.0,\n",
       "       656.0, 601.0, 221.0, 228.0, 108.0, 940.0, 176.0, 33.0, 663.0, 34.0,\n",
       "       942.0, 259.0, 164.0, 458.0, 245.0, 629.0, 28.0, 288.0, 775.0,\n",
       "       785.0, 636.0, 916.0, 994.0, 309.0, 485.0, 914.0, 903.0, 608.0,\n",
       "       500.0, 54.0, 562.0, 847.0, 957.0, 688.0, 811.0, 270.0, 48.0, 329.0,\n",
       "       523.0, 921.0, 874.0, 981.0, 784.0, 280.0, 24.0, 518.0, 754.0,\n",
       "       892.0, 154.0, 860.0, 364.0, 387.0, 626.0, 161.0, 879.0, 39.0,\n",
       "       970.0, 170.0, 141.0, 160.0, 144.0, 143.0, 190.0, 376.0, 193.0,\n",
       "       246.0, 73.0, 658.0, 992.0, 253.0, 420.0, 404.0, 470.0, 226.0,\n",
       "       240.0, 89.0, 234.0, 257.0, 861.0, 467.0, 157.0, 44.0, 676.0, 67.0,\n",
       "       552.0, 885.0, 1020.0, 582.0, 619.0], dtype=object)"
      ]
     },
     "execution_count": 26,
     "metadata": {},
     "output_type": "execute_result"
    }
   ],
   "source": [
    "df_copy[\"Size\"].unique()"
   ]
  },
  {
   "cell_type": "code",
   "execution_count": 27,
   "id": "607db1ef-a458-4080-8a4c-6fa215b69e59",
   "metadata": {},
   "outputs": [
    {
     "data": {
      "text/plain": [
       "dtype('O')"
      ]
     },
     "execution_count": 27,
     "metadata": {},
     "output_type": "execute_result"
    }
   ],
   "source": [
    "df_copy[\"Size\"].dtype\n"
   ]
  },
  {
   "cell_type": "code",
   "execution_count": 28,
   "id": "40a36a93-5105-41dc-aa9c-0b76d80188e9",
   "metadata": {},
   "outputs": [],
   "source": [
    "df_copy.Size=df_copy.Size.astype(\"float\")"
   ]
  },
  {
   "cell_type": "code",
   "execution_count": 29,
   "id": "6493e3b0-09fe-4fa7-8257-d6bbb7ace10d",
   "metadata": {},
   "outputs": [
    {
     "data": {
      "text/plain": [
       "dtype('float64')"
      ]
     },
     "execution_count": 29,
     "metadata": {},
     "output_type": "execute_result"
    }
   ],
   "source": [
    "df_copy.Size.dtype"
   ]
  },
  {
   "cell_type": "code",
   "execution_count": 30,
   "id": "4202de1a-c8eb-4700-a77c-b880ad25aa33",
   "metadata": {},
   "outputs": [
    {
     "data": {
      "text/plain": [
       "0            10,000+\n",
       "1           500,000+\n",
       "2         5,000,000+\n",
       "3        50,000,000+\n",
       "4           100,000+\n",
       "            ...     \n",
       "10353         5,000+\n",
       "10354           100+\n",
       "10355         1,000+\n",
       "10356         1,000+\n",
       "10357    10,000,000+\n",
       "Name: Installs, Length: 10357, dtype: object"
      ]
     },
     "execution_count": 30,
     "metadata": {},
     "output_type": "execute_result"
    }
   ],
   "source": [
    "df_copy[\"Installs\"]"
   ]
  },
  {
   "cell_type": "code",
   "execution_count": 31,
   "id": "c83928a4-0af9-4860-b60c-49892112b45a",
   "metadata": {},
   "outputs": [],
   "source": [
    "df_copy[\"Installs\"]=df_copy[\"Installs\"].str.replace(\"+\",\"\").str.replace(\",\",\"\")"
   ]
  },
  {
   "cell_type": "code",
   "execution_count": 32,
   "id": "bd33fa11-b9f1-42c2-a996-4b8dcf502c4e",
   "metadata": {},
   "outputs": [
    {
     "data": {
      "text/plain": [
       "array(['10000', '500000', '5000000', '50000000', '100000', '50000',\n",
       "       '1000000', '10000000', '5000', '100000000', '1000000000', '1000',\n",
       "       '500000000', '50', '100', '500', '10', '1', '5', '0'], dtype=object)"
      ]
     },
     "execution_count": 32,
     "metadata": {},
     "output_type": "execute_result"
    }
   ],
   "source": [
    "df_copy[\"Installs\"].unique()"
   ]
  },
  {
   "cell_type": "code",
   "execution_count": 33,
   "id": "05be45c1-5b22-45e5-9d3b-098a7b873bd3",
   "metadata": {},
   "outputs": [],
   "source": [
    "df_copy.Installs=df_copy.Installs.astype(\"int\")"
   ]
  },
  {
   "cell_type": "code",
   "execution_count": 34,
   "id": "7f9b3ba1-16f0-4e70-b904-0dfd5e6f5e59",
   "metadata": {},
   "outputs": [
    {
     "name": "stdout",
     "output_type": "stream",
     "text": [
      "<class 'pandas.core.frame.DataFrame'>\n",
      "Index: 10357 entries, 0 to 10357\n",
      "Data columns (total 13 columns):\n",
      " #   Column          Non-Null Count  Dtype  \n",
      "---  ------          --------------  -----  \n",
      " 0   App             10357 non-null  object \n",
      " 1   Category        10357 non-null  object \n",
      " 2   Rating          8892 non-null   float64\n",
      " 3   Reviews         10357 non-null  int64  \n",
      " 4   Size            8831 non-null   float64\n",
      " 5   Installs        10357 non-null  int64  \n",
      " 6   Type            10356 non-null  object \n",
      " 7   Price           10357 non-null  object \n",
      " 8   Content Rating  10357 non-null  object \n",
      " 9   Genres          10357 non-null  object \n",
      " 10  Last Updated    10357 non-null  object \n",
      " 11  Current Ver     10349 non-null  object \n",
      " 12  Android Ver     10355 non-null  object \n",
      "dtypes: float64(2), int64(2), object(9)\n",
      "memory usage: 1.1+ MB\n"
     ]
    }
   ],
   "source": [
    "df_copy.info()"
   ]
  },
  {
   "cell_type": "code",
   "execution_count": 35,
   "id": "ac06d66f-c90b-4007-b4ef-a245b86b2560",
   "metadata": {},
   "outputs": [],
   "source": [
    "def remove_sign(item):\n",
    "    if str(item)[0] == \"$\":      # == for comparison\n",
    "        res = str(item).replace(\"$\", \"\")\n",
    "        return res\n",
    "    return item   "
   ]
  },
  {
   "cell_type": "code",
   "execution_count": 36,
   "id": "43010ab0-8a7d-4151-b80d-17c820d8627f",
   "metadata": {},
   "outputs": [],
   "source": [
    "df_copy[\"Price\"]=df_copy[\"Price\"].apply(remove_sign)"
   ]
  },
  {
   "cell_type": "code",
   "execution_count": 37,
   "id": "e31c4f6a-6819-43a2-8bf9-dfbac0a45c92",
   "metadata": {},
   "outputs": [
    {
     "data": {
      "text/plain": [
       "array(['0', '4.99', '3.99', '6.99', '1.49', '2.99', '7.99', '5.99',\n",
       "       '3.49', '1.99', '9.99', '7.49', '0.99', '9.00', '5.49', '10.00',\n",
       "       '24.99', '11.99', '79.99', '16.99', '14.99', '1.00', '29.99',\n",
       "       '12.99', '2.49', '10.99', '1.50', '19.99', '15.99', '33.99',\n",
       "       '74.99', '39.99', '3.95', '4.49', '1.70', '8.99', '2.00', '3.88',\n",
       "       '25.99', '399.99', '17.99', '400.00', '3.02', '1.76', '4.84',\n",
       "       '4.77', '1.61', '2.50', '1.59', '6.49', '1.29', '5.00', '13.99',\n",
       "       '299.99', '379.99', '37.99', '18.99', '389.99', '19.90', '8.49',\n",
       "       '1.75', '14.00', '4.85', '46.99', '109.99', '154.99', '3.08',\n",
       "       '2.59', '4.80', '1.96', '19.40', '3.90', '4.59', '15.46', '3.04',\n",
       "       '4.29', '2.60', '3.28', '4.60', '28.99', '2.95', '2.90', '1.97',\n",
       "       '200.00', '89.99', '2.56', '30.99', '3.61', '394.99', '1.26',\n",
       "       '1.20', '1.04'], dtype=object)"
      ]
     },
     "execution_count": 37,
     "metadata": {},
     "output_type": "execute_result"
    }
   ],
   "source": [
    "df_copy[\"Price\"].unique()"
   ]
  },
  {
   "cell_type": "code",
   "execution_count": 38,
   "id": "3189fb05-f883-40c7-81b2-ca2f2e711250",
   "metadata": {},
   "outputs": [],
   "source": [
    "df_copy[\"Price\"]=df_copy[\"Price\"].replace(\"Everyone\",0)"
   ]
  },
  {
   "cell_type": "code",
   "execution_count": 39,
   "id": "3c57a4fd-1cee-4e78-a67b-fd3ae9c9e2b2",
   "metadata": {},
   "outputs": [
    {
     "data": {
      "text/plain": [
       "array(['0', '4.99', '3.99', '6.99', '1.49', '2.99', '7.99', '5.99',\n",
       "       '3.49', '1.99', '9.99', '7.49', '0.99', '9.00', '5.49', '10.00',\n",
       "       '24.99', '11.99', '79.99', '16.99', '14.99', '1.00', '29.99',\n",
       "       '12.99', '2.49', '10.99', '1.50', '19.99', '15.99', '33.99',\n",
       "       '74.99', '39.99', '3.95', '4.49', '1.70', '8.99', '2.00', '3.88',\n",
       "       '25.99', '399.99', '17.99', '400.00', '3.02', '1.76', '4.84',\n",
       "       '4.77', '1.61', '2.50', '1.59', '6.49', '1.29', '5.00', '13.99',\n",
       "       '299.99', '379.99', '37.99', '18.99', '389.99', '19.90', '8.49',\n",
       "       '1.75', '14.00', '4.85', '46.99', '109.99', '154.99', '3.08',\n",
       "       '2.59', '4.80', '1.96', '19.40', '3.90', '4.59', '15.46', '3.04',\n",
       "       '4.29', '2.60', '3.28', '4.60', '28.99', '2.95', '2.90', '1.97',\n",
       "       '200.00', '89.99', '2.56', '30.99', '3.61', '394.99', '1.26',\n",
       "       '1.20', '1.04'], dtype=object)"
      ]
     },
     "execution_count": 39,
     "metadata": {},
     "output_type": "execute_result"
    }
   ],
   "source": [
    "df_copy[\"Price\"].unique()"
   ]
  },
  {
   "cell_type": "code",
   "execution_count": 40,
   "id": "6cbd778c-9da0-4a29-a977-d5ddcec6be05",
   "metadata": {},
   "outputs": [],
   "source": [
    "df_copy[\"Price\"]=df_copy[\"Price\"].astype(\"float\")"
   ]
  },
  {
   "cell_type": "code",
   "execution_count": 41,
   "id": "e5ff101f-b865-42fd-ac40-fa9ec339ac02",
   "metadata": {},
   "outputs": [
    {
     "data": {
      "text/plain": [
       "dtype('float64')"
      ]
     },
     "execution_count": 41,
     "metadata": {},
     "output_type": "execute_result"
    }
   ],
   "source": [
    "df_copy[\"Price\"].dtype"
   ]
  },
  {
   "cell_type": "code",
   "execution_count": 42,
   "id": "e7aea7eb-3cde-4a40-8855-95089e1d80ff",
   "metadata": {},
   "outputs": [
    {
     "name": "stdout",
     "output_type": "stream",
     "text": [
      "<class 'pandas.core.frame.DataFrame'>\n",
      "Index: 10357 entries, 0 to 10357\n",
      "Data columns (total 13 columns):\n",
      " #   Column          Non-Null Count  Dtype  \n",
      "---  ------          --------------  -----  \n",
      " 0   App             10357 non-null  object \n",
      " 1   Category        10357 non-null  object \n",
      " 2   Rating          8892 non-null   float64\n",
      " 3   Reviews         10357 non-null  int64  \n",
      " 4   Size            8831 non-null   float64\n",
      " 5   Installs        10357 non-null  int64  \n",
      " 6   Type            10356 non-null  object \n",
      " 7   Price           10357 non-null  float64\n",
      " 8   Content Rating  10357 non-null  object \n",
      " 9   Genres          10357 non-null  object \n",
      " 10  Last Updated    10357 non-null  object \n",
      " 11  Current Ver     10349 non-null  object \n",
      " 12  Android Ver     10355 non-null  object \n",
      "dtypes: float64(3), int64(2), object(8)\n",
      "memory usage: 1.1+ MB\n"
     ]
    }
   ],
   "source": [
    "df_copy.info()"
   ]
  },
  {
   "cell_type": "code",
   "execution_count": 43,
   "id": "7432f1f8-ded8-4304-bdd3-689dacc064c6",
   "metadata": {},
   "outputs": [
    {
     "data": {
      "text/plain": [
       "0         January 7, 2018\n",
       "1        January 15, 2018\n",
       "2          August 1, 2018\n",
       "3            June 8, 2018\n",
       "4           June 20, 2018\n",
       "               ...       \n",
       "10353       July 25, 2017\n",
       "10354        July 6, 2018\n",
       "10355    January 20, 2017\n",
       "10356    January 19, 2015\n",
       "10357       July 25, 2018\n",
       "Name: Last Updated, Length: 10357, dtype: object"
      ]
     },
     "execution_count": 43,
     "metadata": {},
     "output_type": "execute_result"
    }
   ],
   "source": [
    "df_copy[\"Last Updated\"]"
   ]
  },
  {
   "cell_type": "code",
   "execution_count": 44,
   "id": "d020b6a7-3fb5-4034-b496-8899f9bdd026",
   "metadata": {},
   "outputs": [],
   "source": [
    "df_copy[\"Last Updated\"]=pd.to_datetime(df_copy[\"Last Updated\"])"
   ]
  },
  {
   "cell_type": "code",
   "execution_count": 45,
   "id": "f55a6a6b-bb57-46db-9632-22351777419e",
   "metadata": {},
   "outputs": [
    {
     "data": {
      "text/plain": [
       "<DatetimeArray>\n",
       "['2018-01-07 00:00:00', '2018-01-15 00:00:00', '2018-08-01 00:00:00',\n",
       " '2018-06-08 00:00:00', '2018-06-20 00:00:00', '2017-03-26 00:00:00',\n",
       " '2018-04-26 00:00:00', '2018-06-14 00:00:00', '2017-09-20 00:00:00',\n",
       " '2018-07-03 00:00:00',\n",
       " ...\n",
       " '2015-11-23 00:00:00', '2012-06-17 00:00:00', '2015-02-27 00:00:00',\n",
       " '2013-12-18 00:00:00', '2012-02-06 00:00:00', '2014-11-25 00:00:00',\n",
       " '2016-05-19 00:00:00', '2014-01-20 00:00:00', '2014-02-16 00:00:00',\n",
       " '2014-03-23 00:00:00']\n",
       "Length: 1377, dtype: datetime64[ns]"
      ]
     },
     "execution_count": 45,
     "metadata": {},
     "output_type": "execute_result"
    }
   ],
   "source": [
    "df_copy[\"Last Updated\"].unique()\n"
   ]
  },
  {
   "cell_type": "code",
   "execution_count": 46,
   "id": "a8477202-28f5-4507-aa68-6b180168685b",
   "metadata": {},
   "outputs": [],
   "source": [
    "df_copy[\"Last Updated\"] = pd.to_datetime(df_copy[\"Last Updated\"], format=\"mixed\", errors=\"coerce\")\n"
   ]
  },
  {
   "cell_type": "code",
   "execution_count": 47,
   "id": "d01338aa-53a1-40e5-b923-4b0d74a04073",
   "metadata": {},
   "outputs": [
    {
     "name": "stdout",
     "output_type": "stream",
     "text": [
      "Series([], Name: Last Updated, dtype: datetime64[ns])\n"
     ]
    }
   ],
   "source": [
    "invalid_mask = pd.to_datetime(df_copy[\"Last Updated\"], format=\"mixed\", errors=\"coerce\").isna()\n",
    "\n",
    "# Invalid datetime values\n",
    "invalid_values = df_copy.loc[invalid_mask, \"Last Updated\"]\n",
    "\n",
    "print(invalid_values)\n"
   ]
  },
  {
   "cell_type": "code",
   "execution_count": 48,
   "id": "52e46120-1ab6-4fb3-a4fe-162a2025bd42",
   "metadata": {},
   "outputs": [
    {
     "data": {
      "text/plain": [
       "App               osmino Wi-Fi: free WiFi\n",
       "Category                            TOOLS\n",
       "Rating                                4.2\n",
       "Reviews                            134203\n",
       "Size                               4198.4\n",
       "Installs                         10000000\n",
       "Type                                 Free\n",
       "Price                                 0.0\n",
       "Content Rating                   Everyone\n",
       "Genres                              Tools\n",
       "Last Updated          2018-08-07 00:00:00\n",
       "Current Ver                       6.06.14\n",
       "Android Ver                    4.4 and up\n",
       "Name: 9991, dtype: object"
      ]
     },
     "execution_count": 48,
     "metadata": {},
     "output_type": "execute_result"
    }
   ],
   "source": [
    "df_copy.iloc[9990,]"
   ]
  },
  {
   "cell_type": "code",
   "execution_count": 49,
   "id": "100200d7-9711-4a32-9529-e7edec5051d1",
   "metadata": {},
   "outputs": [
    {
     "name": "stdout",
     "output_type": "stream",
     "text": [
      "<class 'pandas.core.frame.DataFrame'>\n",
      "Index: 10357 entries, 0 to 10357\n",
      "Data columns (total 13 columns):\n",
      " #   Column          Non-Null Count  Dtype         \n",
      "---  ------          --------------  -----         \n",
      " 0   App             10357 non-null  object        \n",
      " 1   Category        10357 non-null  object        \n",
      " 2   Rating          8892 non-null   float64       \n",
      " 3   Reviews         10357 non-null  int64         \n",
      " 4   Size            8831 non-null   float64       \n",
      " 5   Installs        10357 non-null  int64         \n",
      " 6   Type            10356 non-null  object        \n",
      " 7   Price           10357 non-null  float64       \n",
      " 8   Content Rating  10357 non-null  object        \n",
      " 9   Genres          10357 non-null  object        \n",
      " 10  Last Updated    10357 non-null  datetime64[ns]\n",
      " 11  Current Ver     10349 non-null  object        \n",
      " 12  Android Ver     10355 non-null  object        \n",
      "dtypes: datetime64[ns](1), float64(3), int64(2), object(7)\n",
      "memory usage: 1.1+ MB\n"
     ]
    }
   ],
   "source": [
    "df_copy.info()"
   ]
  },
  {
   "cell_type": "code",
   "execution_count": 50,
   "id": "4b08ca8c-c359-42c3-973c-44d504c4e089",
   "metadata": {},
   "outputs": [],
   "source": [
    "df_copy = df_copy.dropna(subset=[\"Last Updated\"])\n"
   ]
  },
  {
   "cell_type": "code",
   "execution_count": 51,
   "id": "4fbd5537-12f3-45cb-a0cd-95886ecad55c",
   "metadata": {},
   "outputs": [
    {
     "data": {
      "text/plain": [
       "np.int64(0)"
      ]
     },
     "execution_count": 51,
     "metadata": {},
     "output_type": "execute_result"
    }
   ],
   "source": [
    "df_copy[\"Last Updated\"].isna().sum()"
   ]
  },
  {
   "cell_type": "code",
   "execution_count": 52,
   "id": "5feaaf2c-994a-4b1e-a3f1-97e8935a0282",
   "metadata": {},
   "outputs": [
    {
     "name": "stdout",
     "output_type": "stream",
     "text": [
      "<class 'pandas.core.frame.DataFrame'>\n",
      "Index: 10357 entries, 0 to 10357\n",
      "Data columns (total 13 columns):\n",
      " #   Column          Non-Null Count  Dtype         \n",
      "---  ------          --------------  -----         \n",
      " 0   App             10357 non-null  object        \n",
      " 1   Category        10357 non-null  object        \n",
      " 2   Rating          8892 non-null   float64       \n",
      " 3   Reviews         10357 non-null  int64         \n",
      " 4   Size            8831 non-null   float64       \n",
      " 5   Installs        10357 non-null  int64         \n",
      " 6   Type            10356 non-null  object        \n",
      " 7   Price           10357 non-null  float64       \n",
      " 8   Content Rating  10357 non-null  object        \n",
      " 9   Genres          10357 non-null  object        \n",
      " 10  Last Updated    10357 non-null  datetime64[ns]\n",
      " 11  Current Ver     10349 non-null  object        \n",
      " 12  Android Ver     10355 non-null  object        \n",
      "dtypes: datetime64[ns](1), float64(3), int64(2), object(7)\n",
      "memory usage: 1.1+ MB\n"
     ]
    }
   ],
   "source": [
    "df_copy.info()"
   ]
  },
  {
   "cell_type": "code",
   "execution_count": 53,
   "id": "2b435d8f-af60-47c2-bd35-92b881051963",
   "metadata": {},
   "outputs": [
    {
     "data": {
      "text/plain": [
       "<pandas.core.indexes.accessors.DatetimeProperties object at 0x000001C897A81550>"
      ]
     },
     "execution_count": 53,
     "metadata": {},
     "output_type": "execute_result"
    }
   ],
   "source": [
    " df_copy[\"Last Updated\"].dt"
   ]
  },
  {
   "cell_type": "code",
   "execution_count": 54,
   "id": "23cb478b-a07b-4bec-b055-fc80b79e7e59",
   "metadata": {},
   "outputs": [],
   "source": [
    "df_copy[\"Day\"] = df_copy[\"Last Updated\"].dt.day"
   ]
  },
  {
   "cell_type": "code",
   "execution_count": 55,
   "id": "e11936a1-94ee-4dd7-a85c-8f209b668d8b",
   "metadata": {},
   "outputs": [
    {
     "data": {
      "text/html": [
       "<div>\n",
       "<style scoped>\n",
       "    .dataframe tbody tr th:only-of-type {\n",
       "        vertical-align: middle;\n",
       "    }\n",
       "\n",
       "    .dataframe tbody tr th {\n",
       "        vertical-align: top;\n",
       "    }\n",
       "\n",
       "    .dataframe thead th {\n",
       "        text-align: right;\n",
       "    }\n",
       "</style>\n",
       "<table border=\"1\" class=\"dataframe\">\n",
       "  <thead>\n",
       "    <tr style=\"text-align: right;\">\n",
       "      <th></th>\n",
       "      <th>App</th>\n",
       "      <th>Category</th>\n",
       "      <th>Rating</th>\n",
       "      <th>Reviews</th>\n",
       "      <th>Size</th>\n",
       "      <th>Installs</th>\n",
       "      <th>Type</th>\n",
       "      <th>Price</th>\n",
       "      <th>Content Rating</th>\n",
       "      <th>Genres</th>\n",
       "      <th>Last Updated</th>\n",
       "      <th>Current Ver</th>\n",
       "      <th>Android Ver</th>\n",
       "      <th>Day</th>\n",
       "    </tr>\n",
       "  </thead>\n",
       "  <tbody>\n",
       "    <tr>\n",
       "      <th>0</th>\n",
       "      <td>Photo Editor &amp; Candy Camera &amp; Grid &amp; ScrapBook</td>\n",
       "      <td>ART_AND_DESIGN</td>\n",
       "      <td>4.1</td>\n",
       "      <td>159</td>\n",
       "      <td>19456.0</td>\n",
       "      <td>10000</td>\n",
       "      <td>Free</td>\n",
       "      <td>0.0</td>\n",
       "      <td>Everyone</td>\n",
       "      <td>Art &amp; Design</td>\n",
       "      <td>2018-01-07</td>\n",
       "      <td>1.0.0</td>\n",
       "      <td>4.0.3 and up</td>\n",
       "      <td>7</td>\n",
       "    </tr>\n",
       "    <tr>\n",
       "      <th>1</th>\n",
       "      <td>Coloring book moana</td>\n",
       "      <td>ART_AND_DESIGN</td>\n",
       "      <td>3.9</td>\n",
       "      <td>967</td>\n",
       "      <td>14336.0</td>\n",
       "      <td>500000</td>\n",
       "      <td>Free</td>\n",
       "      <td>0.0</td>\n",
       "      <td>Everyone</td>\n",
       "      <td>Art &amp; Design;Pretend Play</td>\n",
       "      <td>2018-01-15</td>\n",
       "      <td>2.0.0</td>\n",
       "      <td>4.0.3 and up</td>\n",
       "      <td>15</td>\n",
       "    </tr>\n",
       "    <tr>\n",
       "      <th>2</th>\n",
       "      <td>U Launcher Lite – FREE Live Cool Themes, Hide ...</td>\n",
       "      <td>ART_AND_DESIGN</td>\n",
       "      <td>4.7</td>\n",
       "      <td>87510</td>\n",
       "      <td>8908.8</td>\n",
       "      <td>5000000</td>\n",
       "      <td>Free</td>\n",
       "      <td>0.0</td>\n",
       "      <td>Everyone</td>\n",
       "      <td>Art &amp; Design</td>\n",
       "      <td>2018-08-01</td>\n",
       "      <td>1.2.4</td>\n",
       "      <td>4.0.3 and up</td>\n",
       "      <td>1</td>\n",
       "    </tr>\n",
       "    <tr>\n",
       "      <th>3</th>\n",
       "      <td>Sketch - Draw &amp; Paint</td>\n",
       "      <td>ART_AND_DESIGN</td>\n",
       "      <td>4.5</td>\n",
       "      <td>215644</td>\n",
       "      <td>25600.0</td>\n",
       "      <td>50000000</td>\n",
       "      <td>Free</td>\n",
       "      <td>0.0</td>\n",
       "      <td>Teen</td>\n",
       "      <td>Art &amp; Design</td>\n",
       "      <td>2018-06-08</td>\n",
       "      <td>Varies with device</td>\n",
       "      <td>4.2 and up</td>\n",
       "      <td>8</td>\n",
       "    </tr>\n",
       "    <tr>\n",
       "      <th>4</th>\n",
       "      <td>Pixel Draw - Number Art Coloring Book</td>\n",
       "      <td>ART_AND_DESIGN</td>\n",
       "      <td>4.3</td>\n",
       "      <td>967</td>\n",
       "      <td>2867.2</td>\n",
       "      <td>100000</td>\n",
       "      <td>Free</td>\n",
       "      <td>0.0</td>\n",
       "      <td>Everyone</td>\n",
       "      <td>Art &amp; Design;Creativity</td>\n",
       "      <td>2018-06-20</td>\n",
       "      <td>1.1</td>\n",
       "      <td>4.4 and up</td>\n",
       "      <td>20</td>\n",
       "    </tr>\n",
       "    <tr>\n",
       "      <th>...</th>\n",
       "      <td>...</td>\n",
       "      <td>...</td>\n",
       "      <td>...</td>\n",
       "      <td>...</td>\n",
       "      <td>...</td>\n",
       "      <td>...</td>\n",
       "      <td>...</td>\n",
       "      <td>...</td>\n",
       "      <td>...</td>\n",
       "      <td>...</td>\n",
       "      <td>...</td>\n",
       "      <td>...</td>\n",
       "      <td>...</td>\n",
       "      <td>...</td>\n",
       "    </tr>\n",
       "    <tr>\n",
       "      <th>10353</th>\n",
       "      <td>Sya9a Maroc - FR</td>\n",
       "      <td>FAMILY</td>\n",
       "      <td>4.5</td>\n",
       "      <td>38</td>\n",
       "      <td>54272.0</td>\n",
       "      <td>5000</td>\n",
       "      <td>Free</td>\n",
       "      <td>0.0</td>\n",
       "      <td>Everyone</td>\n",
       "      <td>Education</td>\n",
       "      <td>2017-07-25</td>\n",
       "      <td>1.48</td>\n",
       "      <td>4.1 and up</td>\n",
       "      <td>25</td>\n",
       "    </tr>\n",
       "    <tr>\n",
       "      <th>10354</th>\n",
       "      <td>Fr. Mike Schmitz Audio Teachings</td>\n",
       "      <td>FAMILY</td>\n",
       "      <td>5.0</td>\n",
       "      <td>4</td>\n",
       "      <td>3686.4</td>\n",
       "      <td>100</td>\n",
       "      <td>Free</td>\n",
       "      <td>0.0</td>\n",
       "      <td>Everyone</td>\n",
       "      <td>Education</td>\n",
       "      <td>2018-07-06</td>\n",
       "      <td>1.0</td>\n",
       "      <td>4.1 and up</td>\n",
       "      <td>6</td>\n",
       "    </tr>\n",
       "    <tr>\n",
       "      <th>10355</th>\n",
       "      <td>Parkinson Exercices FR</td>\n",
       "      <td>MEDICAL</td>\n",
       "      <td>NaN</td>\n",
       "      <td>3</td>\n",
       "      <td>9728.0</td>\n",
       "      <td>1000</td>\n",
       "      <td>Free</td>\n",
       "      <td>0.0</td>\n",
       "      <td>Everyone</td>\n",
       "      <td>Medical</td>\n",
       "      <td>2017-01-20</td>\n",
       "      <td>1.0</td>\n",
       "      <td>2.2 and up</td>\n",
       "      <td>20</td>\n",
       "    </tr>\n",
       "    <tr>\n",
       "      <th>10356</th>\n",
       "      <td>The SCP Foundation DB fr nn5n</td>\n",
       "      <td>BOOKS_AND_REFERENCE</td>\n",
       "      <td>4.5</td>\n",
       "      <td>114</td>\n",
       "      <td>NaN</td>\n",
       "      <td>1000</td>\n",
       "      <td>Free</td>\n",
       "      <td>0.0</td>\n",
       "      <td>Mature 17+</td>\n",
       "      <td>Books &amp; Reference</td>\n",
       "      <td>2015-01-19</td>\n",
       "      <td>Varies with device</td>\n",
       "      <td>Varies with device</td>\n",
       "      <td>19</td>\n",
       "    </tr>\n",
       "    <tr>\n",
       "      <th>10357</th>\n",
       "      <td>iHoroscope - 2018 Daily Horoscope &amp; Astrology</td>\n",
       "      <td>LIFESTYLE</td>\n",
       "      <td>4.5</td>\n",
       "      <td>398307</td>\n",
       "      <td>19456.0</td>\n",
       "      <td>10000000</td>\n",
       "      <td>Free</td>\n",
       "      <td>0.0</td>\n",
       "      <td>Everyone</td>\n",
       "      <td>Lifestyle</td>\n",
       "      <td>2018-07-25</td>\n",
       "      <td>Varies with device</td>\n",
       "      <td>Varies with device</td>\n",
       "      <td>25</td>\n",
       "    </tr>\n",
       "  </tbody>\n",
       "</table>\n",
       "<p>10357 rows × 14 columns</p>\n",
       "</div>"
      ],
      "text/plain": [
       "                                                     App             Category  \\\n",
       "0         Photo Editor & Candy Camera & Grid & ScrapBook       ART_AND_DESIGN   \n",
       "1                                    Coloring book moana       ART_AND_DESIGN   \n",
       "2      U Launcher Lite – FREE Live Cool Themes, Hide ...       ART_AND_DESIGN   \n",
       "3                                  Sketch - Draw & Paint       ART_AND_DESIGN   \n",
       "4                  Pixel Draw - Number Art Coloring Book       ART_AND_DESIGN   \n",
       "...                                                  ...                  ...   \n",
       "10353                                   Sya9a Maroc - FR               FAMILY   \n",
       "10354                   Fr. Mike Schmitz Audio Teachings               FAMILY   \n",
       "10355                             Parkinson Exercices FR              MEDICAL   \n",
       "10356                      The SCP Foundation DB fr nn5n  BOOKS_AND_REFERENCE   \n",
       "10357      iHoroscope - 2018 Daily Horoscope & Astrology            LIFESTYLE   \n",
       "\n",
       "       Rating  Reviews     Size  Installs  Type  Price Content Rating  \\\n",
       "0         4.1      159  19456.0     10000  Free    0.0       Everyone   \n",
       "1         3.9      967  14336.0    500000  Free    0.0       Everyone   \n",
       "2         4.7    87510   8908.8   5000000  Free    0.0       Everyone   \n",
       "3         4.5   215644  25600.0  50000000  Free    0.0           Teen   \n",
       "4         4.3      967   2867.2    100000  Free    0.0       Everyone   \n",
       "...       ...      ...      ...       ...   ...    ...            ...   \n",
       "10353     4.5       38  54272.0      5000  Free    0.0       Everyone   \n",
       "10354     5.0        4   3686.4       100  Free    0.0       Everyone   \n",
       "10355     NaN        3   9728.0      1000  Free    0.0       Everyone   \n",
       "10356     4.5      114      NaN      1000  Free    0.0     Mature 17+   \n",
       "10357     4.5   398307  19456.0  10000000  Free    0.0       Everyone   \n",
       "\n",
       "                          Genres Last Updated         Current Ver  \\\n",
       "0                   Art & Design   2018-01-07               1.0.0   \n",
       "1      Art & Design;Pretend Play   2018-01-15               2.0.0   \n",
       "2                   Art & Design   2018-08-01               1.2.4   \n",
       "3                   Art & Design   2018-06-08  Varies with device   \n",
       "4        Art & Design;Creativity   2018-06-20                 1.1   \n",
       "...                          ...          ...                 ...   \n",
       "10353                  Education   2017-07-25                1.48   \n",
       "10354                  Education   2018-07-06                 1.0   \n",
       "10355                    Medical   2017-01-20                 1.0   \n",
       "10356          Books & Reference   2015-01-19  Varies with device   \n",
       "10357                  Lifestyle   2018-07-25  Varies with device   \n",
       "\n",
       "              Android Ver  Day  \n",
       "0            4.0.3 and up    7  \n",
       "1            4.0.3 and up   15  \n",
       "2            4.0.3 and up    1  \n",
       "3              4.2 and up    8  \n",
       "4              4.4 and up   20  \n",
       "...                   ...  ...  \n",
       "10353          4.1 and up   25  \n",
       "10354          4.1 and up    6  \n",
       "10355          2.2 and up   20  \n",
       "10356  Varies with device   19  \n",
       "10357  Varies with device   25  \n",
       "\n",
       "[10357 rows x 14 columns]"
      ]
     },
     "execution_count": 55,
     "metadata": {},
     "output_type": "execute_result"
    }
   ],
   "source": [
    "df_copy"
   ]
  },
  {
   "cell_type": "code",
   "execution_count": 56,
   "id": "03ccdd98-e24e-40b7-b1e2-f7639a0ae492",
   "metadata": {},
   "outputs": [],
   "source": [
    "df_copy[\"Month\"] = df_copy[\"Last Updated\"].dt.month\n",
    "df_copy[\"Year\"] = df_copy[\"Last Updated\"].dt.year"
   ]
  },
  {
   "cell_type": "code",
   "execution_count": 57,
   "id": "880332f1-1acb-422f-9363-5716451b2758",
   "metadata": {},
   "outputs": [
    {
     "data": {
      "text/html": [
       "<div>\n",
       "<style scoped>\n",
       "    .dataframe tbody tr th:only-of-type {\n",
       "        vertical-align: middle;\n",
       "    }\n",
       "\n",
       "    .dataframe tbody tr th {\n",
       "        vertical-align: top;\n",
       "    }\n",
       "\n",
       "    .dataframe thead th {\n",
       "        text-align: right;\n",
       "    }\n",
       "</style>\n",
       "<table border=\"1\" class=\"dataframe\">\n",
       "  <thead>\n",
       "    <tr style=\"text-align: right;\">\n",
       "      <th></th>\n",
       "      <th>App</th>\n",
       "      <th>Category</th>\n",
       "      <th>Rating</th>\n",
       "      <th>Reviews</th>\n",
       "      <th>Size</th>\n",
       "      <th>Installs</th>\n",
       "      <th>Type</th>\n",
       "      <th>Price</th>\n",
       "      <th>Content Rating</th>\n",
       "      <th>Genres</th>\n",
       "      <th>Last Updated</th>\n",
       "      <th>Current Ver</th>\n",
       "      <th>Android Ver</th>\n",
       "      <th>Day</th>\n",
       "      <th>Month</th>\n",
       "      <th>Year</th>\n",
       "    </tr>\n",
       "  </thead>\n",
       "  <tbody>\n",
       "    <tr>\n",
       "      <th>0</th>\n",
       "      <td>Photo Editor &amp; Candy Camera &amp; Grid &amp; ScrapBook</td>\n",
       "      <td>ART_AND_DESIGN</td>\n",
       "      <td>4.1</td>\n",
       "      <td>159</td>\n",
       "      <td>19456.0</td>\n",
       "      <td>10000</td>\n",
       "      <td>Free</td>\n",
       "      <td>0.0</td>\n",
       "      <td>Everyone</td>\n",
       "      <td>Art &amp; Design</td>\n",
       "      <td>2018-01-07</td>\n",
       "      <td>1.0.0</td>\n",
       "      <td>4.0.3 and up</td>\n",
       "      <td>7</td>\n",
       "      <td>1</td>\n",
       "      <td>2018</td>\n",
       "    </tr>\n",
       "    <tr>\n",
       "      <th>1</th>\n",
       "      <td>Coloring book moana</td>\n",
       "      <td>ART_AND_DESIGN</td>\n",
       "      <td>3.9</td>\n",
       "      <td>967</td>\n",
       "      <td>14336.0</td>\n",
       "      <td>500000</td>\n",
       "      <td>Free</td>\n",
       "      <td>0.0</td>\n",
       "      <td>Everyone</td>\n",
       "      <td>Art &amp; Design;Pretend Play</td>\n",
       "      <td>2018-01-15</td>\n",
       "      <td>2.0.0</td>\n",
       "      <td>4.0.3 and up</td>\n",
       "      <td>15</td>\n",
       "      <td>1</td>\n",
       "      <td>2018</td>\n",
       "    </tr>\n",
       "    <tr>\n",
       "      <th>2</th>\n",
       "      <td>U Launcher Lite – FREE Live Cool Themes, Hide ...</td>\n",
       "      <td>ART_AND_DESIGN</td>\n",
       "      <td>4.7</td>\n",
       "      <td>87510</td>\n",
       "      <td>8908.8</td>\n",
       "      <td>5000000</td>\n",
       "      <td>Free</td>\n",
       "      <td>0.0</td>\n",
       "      <td>Everyone</td>\n",
       "      <td>Art &amp; Design</td>\n",
       "      <td>2018-08-01</td>\n",
       "      <td>1.2.4</td>\n",
       "      <td>4.0.3 and up</td>\n",
       "      <td>1</td>\n",
       "      <td>8</td>\n",
       "      <td>2018</td>\n",
       "    </tr>\n",
       "    <tr>\n",
       "      <th>3</th>\n",
       "      <td>Sketch - Draw &amp; Paint</td>\n",
       "      <td>ART_AND_DESIGN</td>\n",
       "      <td>4.5</td>\n",
       "      <td>215644</td>\n",
       "      <td>25600.0</td>\n",
       "      <td>50000000</td>\n",
       "      <td>Free</td>\n",
       "      <td>0.0</td>\n",
       "      <td>Teen</td>\n",
       "      <td>Art &amp; Design</td>\n",
       "      <td>2018-06-08</td>\n",
       "      <td>Varies with device</td>\n",
       "      <td>4.2 and up</td>\n",
       "      <td>8</td>\n",
       "      <td>6</td>\n",
       "      <td>2018</td>\n",
       "    </tr>\n",
       "    <tr>\n",
       "      <th>4</th>\n",
       "      <td>Pixel Draw - Number Art Coloring Book</td>\n",
       "      <td>ART_AND_DESIGN</td>\n",
       "      <td>4.3</td>\n",
       "      <td>967</td>\n",
       "      <td>2867.2</td>\n",
       "      <td>100000</td>\n",
       "      <td>Free</td>\n",
       "      <td>0.0</td>\n",
       "      <td>Everyone</td>\n",
       "      <td>Art &amp; Design;Creativity</td>\n",
       "      <td>2018-06-20</td>\n",
       "      <td>1.1</td>\n",
       "      <td>4.4 and up</td>\n",
       "      <td>20</td>\n",
       "      <td>6</td>\n",
       "      <td>2018</td>\n",
       "    </tr>\n",
       "    <tr>\n",
       "      <th>...</th>\n",
       "      <td>...</td>\n",
       "      <td>...</td>\n",
       "      <td>...</td>\n",
       "      <td>...</td>\n",
       "      <td>...</td>\n",
       "      <td>...</td>\n",
       "      <td>...</td>\n",
       "      <td>...</td>\n",
       "      <td>...</td>\n",
       "      <td>...</td>\n",
       "      <td>...</td>\n",
       "      <td>...</td>\n",
       "      <td>...</td>\n",
       "      <td>...</td>\n",
       "      <td>...</td>\n",
       "      <td>...</td>\n",
       "    </tr>\n",
       "    <tr>\n",
       "      <th>10353</th>\n",
       "      <td>Sya9a Maroc - FR</td>\n",
       "      <td>FAMILY</td>\n",
       "      <td>4.5</td>\n",
       "      <td>38</td>\n",
       "      <td>54272.0</td>\n",
       "      <td>5000</td>\n",
       "      <td>Free</td>\n",
       "      <td>0.0</td>\n",
       "      <td>Everyone</td>\n",
       "      <td>Education</td>\n",
       "      <td>2017-07-25</td>\n",
       "      <td>1.48</td>\n",
       "      <td>4.1 and up</td>\n",
       "      <td>25</td>\n",
       "      <td>7</td>\n",
       "      <td>2017</td>\n",
       "    </tr>\n",
       "    <tr>\n",
       "      <th>10354</th>\n",
       "      <td>Fr. Mike Schmitz Audio Teachings</td>\n",
       "      <td>FAMILY</td>\n",
       "      <td>5.0</td>\n",
       "      <td>4</td>\n",
       "      <td>3686.4</td>\n",
       "      <td>100</td>\n",
       "      <td>Free</td>\n",
       "      <td>0.0</td>\n",
       "      <td>Everyone</td>\n",
       "      <td>Education</td>\n",
       "      <td>2018-07-06</td>\n",
       "      <td>1.0</td>\n",
       "      <td>4.1 and up</td>\n",
       "      <td>6</td>\n",
       "      <td>7</td>\n",
       "      <td>2018</td>\n",
       "    </tr>\n",
       "    <tr>\n",
       "      <th>10355</th>\n",
       "      <td>Parkinson Exercices FR</td>\n",
       "      <td>MEDICAL</td>\n",
       "      <td>NaN</td>\n",
       "      <td>3</td>\n",
       "      <td>9728.0</td>\n",
       "      <td>1000</td>\n",
       "      <td>Free</td>\n",
       "      <td>0.0</td>\n",
       "      <td>Everyone</td>\n",
       "      <td>Medical</td>\n",
       "      <td>2017-01-20</td>\n",
       "      <td>1.0</td>\n",
       "      <td>2.2 and up</td>\n",
       "      <td>20</td>\n",
       "      <td>1</td>\n",
       "      <td>2017</td>\n",
       "    </tr>\n",
       "    <tr>\n",
       "      <th>10356</th>\n",
       "      <td>The SCP Foundation DB fr nn5n</td>\n",
       "      <td>BOOKS_AND_REFERENCE</td>\n",
       "      <td>4.5</td>\n",
       "      <td>114</td>\n",
       "      <td>NaN</td>\n",
       "      <td>1000</td>\n",
       "      <td>Free</td>\n",
       "      <td>0.0</td>\n",
       "      <td>Mature 17+</td>\n",
       "      <td>Books &amp; Reference</td>\n",
       "      <td>2015-01-19</td>\n",
       "      <td>Varies with device</td>\n",
       "      <td>Varies with device</td>\n",
       "      <td>19</td>\n",
       "      <td>1</td>\n",
       "      <td>2015</td>\n",
       "    </tr>\n",
       "    <tr>\n",
       "      <th>10357</th>\n",
       "      <td>iHoroscope - 2018 Daily Horoscope &amp; Astrology</td>\n",
       "      <td>LIFESTYLE</td>\n",
       "      <td>4.5</td>\n",
       "      <td>398307</td>\n",
       "      <td>19456.0</td>\n",
       "      <td>10000000</td>\n",
       "      <td>Free</td>\n",
       "      <td>0.0</td>\n",
       "      <td>Everyone</td>\n",
       "      <td>Lifestyle</td>\n",
       "      <td>2018-07-25</td>\n",
       "      <td>Varies with device</td>\n",
       "      <td>Varies with device</td>\n",
       "      <td>25</td>\n",
       "      <td>7</td>\n",
       "      <td>2018</td>\n",
       "    </tr>\n",
       "  </tbody>\n",
       "</table>\n",
       "<p>10357 rows × 16 columns</p>\n",
       "</div>"
      ],
      "text/plain": [
       "                                                     App             Category  \\\n",
       "0         Photo Editor & Candy Camera & Grid & ScrapBook       ART_AND_DESIGN   \n",
       "1                                    Coloring book moana       ART_AND_DESIGN   \n",
       "2      U Launcher Lite – FREE Live Cool Themes, Hide ...       ART_AND_DESIGN   \n",
       "3                                  Sketch - Draw & Paint       ART_AND_DESIGN   \n",
       "4                  Pixel Draw - Number Art Coloring Book       ART_AND_DESIGN   \n",
       "...                                                  ...                  ...   \n",
       "10353                                   Sya9a Maroc - FR               FAMILY   \n",
       "10354                   Fr. Mike Schmitz Audio Teachings               FAMILY   \n",
       "10355                             Parkinson Exercices FR              MEDICAL   \n",
       "10356                      The SCP Foundation DB fr nn5n  BOOKS_AND_REFERENCE   \n",
       "10357      iHoroscope - 2018 Daily Horoscope & Astrology            LIFESTYLE   \n",
       "\n",
       "       Rating  Reviews     Size  Installs  Type  Price Content Rating  \\\n",
       "0         4.1      159  19456.0     10000  Free    0.0       Everyone   \n",
       "1         3.9      967  14336.0    500000  Free    0.0       Everyone   \n",
       "2         4.7    87510   8908.8   5000000  Free    0.0       Everyone   \n",
       "3         4.5   215644  25600.0  50000000  Free    0.0           Teen   \n",
       "4         4.3      967   2867.2    100000  Free    0.0       Everyone   \n",
       "...       ...      ...      ...       ...   ...    ...            ...   \n",
       "10353     4.5       38  54272.0      5000  Free    0.0       Everyone   \n",
       "10354     5.0        4   3686.4       100  Free    0.0       Everyone   \n",
       "10355     NaN        3   9728.0      1000  Free    0.0       Everyone   \n",
       "10356     4.5      114      NaN      1000  Free    0.0     Mature 17+   \n",
       "10357     4.5   398307  19456.0  10000000  Free    0.0       Everyone   \n",
       "\n",
       "                          Genres Last Updated         Current Ver  \\\n",
       "0                   Art & Design   2018-01-07               1.0.0   \n",
       "1      Art & Design;Pretend Play   2018-01-15               2.0.0   \n",
       "2                   Art & Design   2018-08-01               1.2.4   \n",
       "3                   Art & Design   2018-06-08  Varies with device   \n",
       "4        Art & Design;Creativity   2018-06-20                 1.1   \n",
       "...                          ...          ...                 ...   \n",
       "10353                  Education   2017-07-25                1.48   \n",
       "10354                  Education   2018-07-06                 1.0   \n",
       "10355                    Medical   2017-01-20                 1.0   \n",
       "10356          Books & Reference   2015-01-19  Varies with device   \n",
       "10357                  Lifestyle   2018-07-25  Varies with device   \n",
       "\n",
       "              Android Ver  Day  Month  Year  \n",
       "0            4.0.3 and up    7      1  2018  \n",
       "1            4.0.3 and up   15      1  2018  \n",
       "2            4.0.3 and up    1      8  2018  \n",
       "3              4.2 and up    8      6  2018  \n",
       "4              4.4 and up   20      6  2018  \n",
       "...                   ...  ...    ...   ...  \n",
       "10353          4.1 and up   25      7  2017  \n",
       "10354          4.1 and up    6      7  2018  \n",
       "10355          2.2 and up   20      1  2017  \n",
       "10356  Varies with device   19      1  2015  \n",
       "10357  Varies with device   25      7  2018  \n",
       "\n",
       "[10357 rows x 16 columns]"
      ]
     },
     "execution_count": 57,
     "metadata": {},
     "output_type": "execute_result"
    }
   ],
   "source": [
    "df_copy"
   ]
  },
  {
   "cell_type": "code",
   "execution_count": 58,
   "id": "68490cf7-febb-43b6-bd19-0dc483350550",
   "metadata": {},
   "outputs": [],
   "source": [
    "df_copy.drop(\"Last Updated\",axis =1 , inplace= True)"
   ]
  },
  {
   "cell_type": "code",
   "execution_count": 59,
   "id": "41daece0-5d32-414e-ac6d-8185f6ac353a",
   "metadata": {},
   "outputs": [
    {
     "data": {
      "text/html": [
       "<div>\n",
       "<style scoped>\n",
       "    .dataframe tbody tr th:only-of-type {\n",
       "        vertical-align: middle;\n",
       "    }\n",
       "\n",
       "    .dataframe tbody tr th {\n",
       "        vertical-align: top;\n",
       "    }\n",
       "\n",
       "    .dataframe thead th {\n",
       "        text-align: right;\n",
       "    }\n",
       "</style>\n",
       "<table border=\"1\" class=\"dataframe\">\n",
       "  <thead>\n",
       "    <tr style=\"text-align: right;\">\n",
       "      <th></th>\n",
       "      <th>App</th>\n",
       "      <th>Category</th>\n",
       "      <th>Rating</th>\n",
       "      <th>Reviews</th>\n",
       "      <th>Size</th>\n",
       "      <th>Installs</th>\n",
       "      <th>Type</th>\n",
       "      <th>Price</th>\n",
       "      <th>Content Rating</th>\n",
       "      <th>Genres</th>\n",
       "      <th>Current Ver</th>\n",
       "      <th>Android Ver</th>\n",
       "      <th>Day</th>\n",
       "      <th>Month</th>\n",
       "      <th>Year</th>\n",
       "    </tr>\n",
       "  </thead>\n",
       "  <tbody>\n",
       "    <tr>\n",
       "      <th>0</th>\n",
       "      <td>Photo Editor &amp; Candy Camera &amp; Grid &amp; ScrapBook</td>\n",
       "      <td>ART_AND_DESIGN</td>\n",
       "      <td>4.1</td>\n",
       "      <td>159</td>\n",
       "      <td>19456.0</td>\n",
       "      <td>10000</td>\n",
       "      <td>Free</td>\n",
       "      <td>0.0</td>\n",
       "      <td>Everyone</td>\n",
       "      <td>Art &amp; Design</td>\n",
       "      <td>1.0.0</td>\n",
       "      <td>4.0.3 and up</td>\n",
       "      <td>7</td>\n",
       "      <td>1</td>\n",
       "      <td>2018</td>\n",
       "    </tr>\n",
       "    <tr>\n",
       "      <th>1</th>\n",
       "      <td>Coloring book moana</td>\n",
       "      <td>ART_AND_DESIGN</td>\n",
       "      <td>3.9</td>\n",
       "      <td>967</td>\n",
       "      <td>14336.0</td>\n",
       "      <td>500000</td>\n",
       "      <td>Free</td>\n",
       "      <td>0.0</td>\n",
       "      <td>Everyone</td>\n",
       "      <td>Art &amp; Design;Pretend Play</td>\n",
       "      <td>2.0.0</td>\n",
       "      <td>4.0.3 and up</td>\n",
       "      <td>15</td>\n",
       "      <td>1</td>\n",
       "      <td>2018</td>\n",
       "    </tr>\n",
       "    <tr>\n",
       "      <th>2</th>\n",
       "      <td>U Launcher Lite – FREE Live Cool Themes, Hide ...</td>\n",
       "      <td>ART_AND_DESIGN</td>\n",
       "      <td>4.7</td>\n",
       "      <td>87510</td>\n",
       "      <td>8908.8</td>\n",
       "      <td>5000000</td>\n",
       "      <td>Free</td>\n",
       "      <td>0.0</td>\n",
       "      <td>Everyone</td>\n",
       "      <td>Art &amp; Design</td>\n",
       "      <td>1.2.4</td>\n",
       "      <td>4.0.3 and up</td>\n",
       "      <td>1</td>\n",
       "      <td>8</td>\n",
       "      <td>2018</td>\n",
       "    </tr>\n",
       "    <tr>\n",
       "      <th>3</th>\n",
       "      <td>Sketch - Draw &amp; Paint</td>\n",
       "      <td>ART_AND_DESIGN</td>\n",
       "      <td>4.5</td>\n",
       "      <td>215644</td>\n",
       "      <td>25600.0</td>\n",
       "      <td>50000000</td>\n",
       "      <td>Free</td>\n",
       "      <td>0.0</td>\n",
       "      <td>Teen</td>\n",
       "      <td>Art &amp; Design</td>\n",
       "      <td>Varies with device</td>\n",
       "      <td>4.2 and up</td>\n",
       "      <td>8</td>\n",
       "      <td>6</td>\n",
       "      <td>2018</td>\n",
       "    </tr>\n",
       "    <tr>\n",
       "      <th>4</th>\n",
       "      <td>Pixel Draw - Number Art Coloring Book</td>\n",
       "      <td>ART_AND_DESIGN</td>\n",
       "      <td>4.3</td>\n",
       "      <td>967</td>\n",
       "      <td>2867.2</td>\n",
       "      <td>100000</td>\n",
       "      <td>Free</td>\n",
       "      <td>0.0</td>\n",
       "      <td>Everyone</td>\n",
       "      <td>Art &amp; Design;Creativity</td>\n",
       "      <td>1.1</td>\n",
       "      <td>4.4 and up</td>\n",
       "      <td>20</td>\n",
       "      <td>6</td>\n",
       "      <td>2018</td>\n",
       "    </tr>\n",
       "    <tr>\n",
       "      <th>...</th>\n",
       "      <td>...</td>\n",
       "      <td>...</td>\n",
       "      <td>...</td>\n",
       "      <td>...</td>\n",
       "      <td>...</td>\n",
       "      <td>...</td>\n",
       "      <td>...</td>\n",
       "      <td>...</td>\n",
       "      <td>...</td>\n",
       "      <td>...</td>\n",
       "      <td>...</td>\n",
       "      <td>...</td>\n",
       "      <td>...</td>\n",
       "      <td>...</td>\n",
       "      <td>...</td>\n",
       "    </tr>\n",
       "    <tr>\n",
       "      <th>10353</th>\n",
       "      <td>Sya9a Maroc - FR</td>\n",
       "      <td>FAMILY</td>\n",
       "      <td>4.5</td>\n",
       "      <td>38</td>\n",
       "      <td>54272.0</td>\n",
       "      <td>5000</td>\n",
       "      <td>Free</td>\n",
       "      <td>0.0</td>\n",
       "      <td>Everyone</td>\n",
       "      <td>Education</td>\n",
       "      <td>1.48</td>\n",
       "      <td>4.1 and up</td>\n",
       "      <td>25</td>\n",
       "      <td>7</td>\n",
       "      <td>2017</td>\n",
       "    </tr>\n",
       "    <tr>\n",
       "      <th>10354</th>\n",
       "      <td>Fr. Mike Schmitz Audio Teachings</td>\n",
       "      <td>FAMILY</td>\n",
       "      <td>5.0</td>\n",
       "      <td>4</td>\n",
       "      <td>3686.4</td>\n",
       "      <td>100</td>\n",
       "      <td>Free</td>\n",
       "      <td>0.0</td>\n",
       "      <td>Everyone</td>\n",
       "      <td>Education</td>\n",
       "      <td>1.0</td>\n",
       "      <td>4.1 and up</td>\n",
       "      <td>6</td>\n",
       "      <td>7</td>\n",
       "      <td>2018</td>\n",
       "    </tr>\n",
       "    <tr>\n",
       "      <th>10355</th>\n",
       "      <td>Parkinson Exercices FR</td>\n",
       "      <td>MEDICAL</td>\n",
       "      <td>NaN</td>\n",
       "      <td>3</td>\n",
       "      <td>9728.0</td>\n",
       "      <td>1000</td>\n",
       "      <td>Free</td>\n",
       "      <td>0.0</td>\n",
       "      <td>Everyone</td>\n",
       "      <td>Medical</td>\n",
       "      <td>1.0</td>\n",
       "      <td>2.2 and up</td>\n",
       "      <td>20</td>\n",
       "      <td>1</td>\n",
       "      <td>2017</td>\n",
       "    </tr>\n",
       "    <tr>\n",
       "      <th>10356</th>\n",
       "      <td>The SCP Foundation DB fr nn5n</td>\n",
       "      <td>BOOKS_AND_REFERENCE</td>\n",
       "      <td>4.5</td>\n",
       "      <td>114</td>\n",
       "      <td>NaN</td>\n",
       "      <td>1000</td>\n",
       "      <td>Free</td>\n",
       "      <td>0.0</td>\n",
       "      <td>Mature 17+</td>\n",
       "      <td>Books &amp; Reference</td>\n",
       "      <td>Varies with device</td>\n",
       "      <td>Varies with device</td>\n",
       "      <td>19</td>\n",
       "      <td>1</td>\n",
       "      <td>2015</td>\n",
       "    </tr>\n",
       "    <tr>\n",
       "      <th>10357</th>\n",
       "      <td>iHoroscope - 2018 Daily Horoscope &amp; Astrology</td>\n",
       "      <td>LIFESTYLE</td>\n",
       "      <td>4.5</td>\n",
       "      <td>398307</td>\n",
       "      <td>19456.0</td>\n",
       "      <td>10000000</td>\n",
       "      <td>Free</td>\n",
       "      <td>0.0</td>\n",
       "      <td>Everyone</td>\n",
       "      <td>Lifestyle</td>\n",
       "      <td>Varies with device</td>\n",
       "      <td>Varies with device</td>\n",
       "      <td>25</td>\n",
       "      <td>7</td>\n",
       "      <td>2018</td>\n",
       "    </tr>\n",
       "  </tbody>\n",
       "</table>\n",
       "<p>10357 rows × 15 columns</p>\n",
       "</div>"
      ],
      "text/plain": [
       "                                                     App             Category  \\\n",
       "0         Photo Editor & Candy Camera & Grid & ScrapBook       ART_AND_DESIGN   \n",
       "1                                    Coloring book moana       ART_AND_DESIGN   \n",
       "2      U Launcher Lite – FREE Live Cool Themes, Hide ...       ART_AND_DESIGN   \n",
       "3                                  Sketch - Draw & Paint       ART_AND_DESIGN   \n",
       "4                  Pixel Draw - Number Art Coloring Book       ART_AND_DESIGN   \n",
       "...                                                  ...                  ...   \n",
       "10353                                   Sya9a Maroc - FR               FAMILY   \n",
       "10354                   Fr. Mike Schmitz Audio Teachings               FAMILY   \n",
       "10355                             Parkinson Exercices FR              MEDICAL   \n",
       "10356                      The SCP Foundation DB fr nn5n  BOOKS_AND_REFERENCE   \n",
       "10357      iHoroscope - 2018 Daily Horoscope & Astrology            LIFESTYLE   \n",
       "\n",
       "       Rating  Reviews     Size  Installs  Type  Price Content Rating  \\\n",
       "0         4.1      159  19456.0     10000  Free    0.0       Everyone   \n",
       "1         3.9      967  14336.0    500000  Free    0.0       Everyone   \n",
       "2         4.7    87510   8908.8   5000000  Free    0.0       Everyone   \n",
       "3         4.5   215644  25600.0  50000000  Free    0.0           Teen   \n",
       "4         4.3      967   2867.2    100000  Free    0.0       Everyone   \n",
       "...       ...      ...      ...       ...   ...    ...            ...   \n",
       "10353     4.5       38  54272.0      5000  Free    0.0       Everyone   \n",
       "10354     5.0        4   3686.4       100  Free    0.0       Everyone   \n",
       "10355     NaN        3   9728.0      1000  Free    0.0       Everyone   \n",
       "10356     4.5      114      NaN      1000  Free    0.0     Mature 17+   \n",
       "10357     4.5   398307  19456.0  10000000  Free    0.0       Everyone   \n",
       "\n",
       "                          Genres         Current Ver         Android Ver  Day  \\\n",
       "0                   Art & Design               1.0.0        4.0.3 and up    7   \n",
       "1      Art & Design;Pretend Play               2.0.0        4.0.3 and up   15   \n",
       "2                   Art & Design               1.2.4        4.0.3 and up    1   \n",
       "3                   Art & Design  Varies with device          4.2 and up    8   \n",
       "4        Art & Design;Creativity                 1.1          4.4 and up   20   \n",
       "...                          ...                 ...                 ...  ...   \n",
       "10353                  Education                1.48          4.1 and up   25   \n",
       "10354                  Education                 1.0          4.1 and up    6   \n",
       "10355                    Medical                 1.0          2.2 and up   20   \n",
       "10356          Books & Reference  Varies with device  Varies with device   19   \n",
       "10357                  Lifestyle  Varies with device  Varies with device   25   \n",
       "\n",
       "       Month  Year  \n",
       "0          1  2018  \n",
       "1          1  2018  \n",
       "2          8  2018  \n",
       "3          6  2018  \n",
       "4          6  2018  \n",
       "...      ...   ...  \n",
       "10353      7  2017  \n",
       "10354      7  2018  \n",
       "10355      1  2017  \n",
       "10356      1  2015  \n",
       "10357      7  2018  \n",
       "\n",
       "[10357 rows x 15 columns]"
      ]
     },
     "execution_count": 59,
     "metadata": {},
     "output_type": "execute_result"
    }
   ],
   "source": [
    "df_copy"
   ]
  },
  {
   "cell_type": "code",
   "execution_count": 60,
   "id": "b22f5717-db11-4c0f-8e28-f38cc2e5152d",
   "metadata": {},
   "outputs": [
    {
     "data": {
      "text/plain": [
       "33"
      ]
     },
     "execution_count": 60,
     "metadata": {},
     "output_type": "execute_result"
    }
   ],
   "source": [
    "df_copy[\"Android Ver\"].nunique()"
   ]
  },
  {
   "cell_type": "code",
   "execution_count": 61,
   "id": "9a611136-6537-4045-b61f-7ad35245a1be",
   "metadata": {},
   "outputs": [],
   "source": [
    "df_copy[\"Android Ver\"]=df_copy[\"Android Ver\"].str.replace(\"and up\",\"\").str.replace(\"Varies with device\",\"0\")"
   ]
  },
  {
   "cell_type": "code",
   "execution_count": 62,
   "id": "9eb0b7b4-00c8-43fc-82a2-7f3182c4207e",
   "metadata": {},
   "outputs": [
    {
     "data": {
      "text/plain": [
       "33"
      ]
     },
     "execution_count": 62,
     "metadata": {},
     "output_type": "execute_result"
    }
   ],
   "source": [
    "df_copy[\"Android Ver\"].nunique()\n",
    "#df_copy[\"Android Ver\"].shape"
   ]
  },
  {
   "cell_type": "code",
   "execution_count": null,
   "id": "721df871-55e4-4e40-aee5-dc122fce7cf2",
   "metadata": {},
   "outputs": [],
   "source": [
    "\n"
   ]
  },
  {
   "cell_type": "code",
   "execution_count": 63,
   "id": "806a0048-2cf6-478f-a349-ccd7e01e4d48",
   "metadata": {},
   "outputs": [
    {
     "data": {
      "text/plain": [
       "array(['4.0.3 ', '4.2 ', '4.4 ', '2.3 ', '3.0 ', '4.1 ', '4.0 ', '2.3.3 ',\n",
       "       '0', '2.2 ', '5.0 ', '6.0 ', '1.6 ', '1.5 ', '2.1 ', '7.0 ',\n",
       "       '5.1 ', '4.3 ', '4.0.3 - 7.1.1', '2.0 ', '3.2 ', '4.4W ', '7.1 ',\n",
       "       '7.0 - 7.1.1', '8.0 ', '5.0 - 8.0', '3.1 ', '2.0.1 ',\n",
       "       '4.1 - 7.1.1', nan, '5.0 - 6.0', '1.0 ', '2.2 - 7.1.1',\n",
       "       '5.0 - 7.1.1'], dtype=object)"
      ]
     },
     "execution_count": 63,
     "metadata": {},
     "output_type": "execute_result"
    }
   ],
   "source": [
    "df_copy[\"Android Ver\"].unique()"
   ]
  },
  {
   "cell_type": "code",
   "execution_count": 64,
   "id": "e25f4389-5cf8-408f-b72f-f782197c577d",
   "metadata": {},
   "outputs": [
    {
     "data": {
      "text/plain": [
       "(10357,)"
      ]
     },
     "execution_count": 64,
     "metadata": {},
     "output_type": "execute_result"
    }
   ],
   "source": [
    "df_copy[\"Android Ver\"].shape"
   ]
  },
  {
   "cell_type": "code",
   "execution_count": 65,
   "id": "8950bdfe-79fe-416c-9327-cc9f993c0da3",
   "metadata": {},
   "outputs": [
    {
     "name": "stdout",
     "output_type": "stream",
     "text": [
      "<class 'pandas.core.frame.DataFrame'>\n",
      "Index: 10357 entries, 0 to 10357\n",
      "Data columns (total 15 columns):\n",
      " #   Column          Non-Null Count  Dtype  \n",
      "---  ------          --------------  -----  \n",
      " 0   App             10357 non-null  object \n",
      " 1   Category        10357 non-null  object \n",
      " 2   Rating          8892 non-null   float64\n",
      " 3   Reviews         10357 non-null  int64  \n",
      " 4   Size            8831 non-null   float64\n",
      " 5   Installs        10357 non-null  int64  \n",
      " 6   Type            10356 non-null  object \n",
      " 7   Price           10357 non-null  float64\n",
      " 8   Content Rating  10357 non-null  object \n",
      " 9   Genres          10357 non-null  object \n",
      " 10  Current Ver     10349 non-null  object \n",
      " 11  Android Ver     10355 non-null  object \n",
      " 12  Day             10357 non-null  int32  \n",
      " 13  Month           10357 non-null  int32  \n",
      " 14  Year            10357 non-null  int32  \n",
      "dtypes: float64(3), int32(3), int64(2), object(7)\n",
      "memory usage: 1.1+ MB\n"
     ]
    }
   ],
   "source": [
    "df_copy.info()"
   ]
  },
  {
   "cell_type": "code",
   "execution_count": 68,
   "id": "6a0a6e9d-9bdf-428c-9620-9f031c129cbf",
   "metadata": {},
   "outputs": [],
   "source": [
    "df_copy[\"Android Ver\"].replace(\"4.4W \",\"4.4\",inplace=True)\n"
   ]
  },
  {
   "cell_type": "code",
   "execution_count": 69,
   "id": "cd46aa42-f2b4-4e4b-b495-0688a76ee755",
   "metadata": {},
   "outputs": [
    {
     "data": {
      "text/plain": [
       "array(['4.0.3 ', '4.2 ', '4.4 ', '2.3 ', '3.0 ', '4.1 ', '4.0 ', '2.3.3 ',\n",
       "       '0', '2.2 ', '5.0 ', '6.0 ', '1.6 ', '1.5 ', '2.1 ', '7.0 ',\n",
       "       '5.1 ', '4.3 ', '4.0.3 - 7.1.1', '2.0 ', '3.2 ', '4.4', '7.1 ',\n",
       "       '7.0 - 7.1.1', '8.0 ', '5.0 - 8.0', '3.1 ', '2.0.1 ',\n",
       "       '4.1 - 7.1.1', nan, '5.0 - 6.0', '1.0 ', '2.2 - 7.1.1',\n",
       "       '5.0 - 7.1.1'], dtype=object)"
      ]
     },
     "execution_count": 69,
     "metadata": {},
     "output_type": "execute_result"
    }
   ],
   "source": [
    "df_copy[\"Android Ver\"].unique()"
   ]
  },
  {
   "cell_type": "code",
   "execution_count": 70,
   "id": "2b536ab7-eefe-4939-9df2-2e6d26852986",
   "metadata": {},
   "outputs": [],
   "source": [
    "def clean_android_version(val):\n",
    "    if isinstance(val, str):\n",
    "        # sirf dash ke pehle ka part lo\n",
    "        val = val.split('-')[0].strip()\n",
    "    return val\n",
    "\n",
    "df_copy[\"Android Ver\"] = df_copy[\"Android Ver\"].apply(clean_android_version)\n",
    "\n"
   ]
  },
  {
   "cell_type": "code",
   "execution_count": 71,
   "id": "f0299fdb-2bbe-4125-b1b7-5abbe411b1d4",
   "metadata": {},
   "outputs": [
    {
     "data": {
      "text/plain": [
       "array(['4.0.3', '4.2', '4.4', '2.3', '3.0', '4.1', '4.0', '2.3.3', '0',\n",
       "       '2.2', '5.0', '6.0', '1.6', '1.5', '2.1', '7.0', '5.1', '4.3',\n",
       "       '2.0', '3.2', '7.1', '8.0', '3.1', '2.0.1', nan, '1.0'],\n",
       "      dtype=object)"
      ]
     },
     "execution_count": 71,
     "metadata": {},
     "output_type": "execute_result"
    }
   ],
   "source": [
    "df_copy[\"Android Ver\"].unique()"
   ]
  },
  {
   "cell_type": "code",
   "execution_count": 74,
   "id": "b1c48034-3c42-4a3a-956a-e576bdb3d65d",
   "metadata": {},
   "outputs": [],
   "source": [
    "df_copy.dropna(subset=[\"Android Ver\"], inplace=True)\n"
   ]
  },
  {
   "cell_type": "code",
   "execution_count": 75,
   "id": "e95a13f1-04db-4d92-ad48-8253cd7d84ed",
   "metadata": {},
   "outputs": [
    {
     "data": {
      "text/plain": [
       "array(['4.0.3', '4.2', '4.4', '2.3', '3.0', '4.1', '4.0', '2.3.3', '0',\n",
       "       '2.2', '5.0', '6.0', '1.6', '1.5', '2.1', '7.0', '5.1', '4.3',\n",
       "       '2.0', '3.2', '7.1', '8.0', '3.1', '2.0.1', '1.0'], dtype=object)"
      ]
     },
     "execution_count": 75,
     "metadata": {},
     "output_type": "execute_result"
    }
   ],
   "source": [
    "df_copy[\"Android Ver\"].unique()"
   ]
  },
  {
   "cell_type": "code",
   "execution_count": 76,
   "id": "5f7ac92a-cb72-4ec1-8e0a-de9c0c668a21",
   "metadata": {},
   "outputs": [],
   "source": [
    "df_copy[\"Android Ver\"] = (\n",
    "    df_copy[\"Android Ver\"]\n",
    "    .astype(str)                # ensure sab string ho\n",
    "    .str.split('-').str[0]       # dash se split, first part lelo\n",
    "    .str.strip()                 # extra space hatao\n",
    "    .str[:3]                     # sirf 3 char (jaise 4.0, 5.1) rakho\n",
    ")\n"
   ]
  },
  {
   "cell_type": "code",
   "execution_count": 81,
   "id": "dd6cfdf3-0594-48a9-a23f-489eb80c9c0c",
   "metadata": {},
   "outputs": [
    {
     "data": {
      "text/plain": [
       "array(['4.0', '4.2', '4.4', '2.3', '3.0', '4.1', '2.2', '5.0', '6.0',\n",
       "       '1.6', '1.5', '2.1', '7.0', '5.1', '4.3', '2.0', '3.2', '7.1',\n",
       "       '8.0', '3.1', '1.0'], dtype=object)"
      ]
     },
     "execution_count": 81,
     "metadata": {},
     "output_type": "execute_result"
    }
   ],
   "source": [
    "df_copy[\"Android Ver\"].unique()"
   ]
  },
  {
   "cell_type": "code",
   "execution_count": 78,
   "id": "18aa4bd1-24e0-4e41-b40e-c1f61838ce91",
   "metadata": {},
   "outputs": [],
   "source": [
    "df_copy[\"Android Ver\"].replace(\"0\",np.nan,inplace =True)"
   ]
  },
  {
   "cell_type": "code",
   "execution_count": 80,
   "id": "1f40bc02-2b69-4722-9020-e8a1ebc94632",
   "metadata": {},
   "outputs": [],
   "source": [
    "df_copy.dropna(subset=[\"Android Ver\"], inplace=True)"
   ]
  },
  {
   "cell_type": "code",
   "execution_count": 85,
   "id": "00ba2417-61a0-4439-bc81-39cd131d566d",
   "metadata": {},
   "outputs": [
    {
     "name": "stdout",
     "output_type": "stream",
     "text": [
      "<class 'pandas.core.frame.DataFrame'>\n",
      "Index: 9134 entries, 0 to 10355\n",
      "Data columns (total 15 columns):\n",
      " #   Column          Non-Null Count  Dtype  \n",
      "---  ------          --------------  -----  \n",
      " 0   App             9134 non-null   object \n",
      " 1   Category        9134 non-null   object \n",
      " 2   Rating          7712 non-null   float64\n",
      " 3   Reviews         9134 non-null   int64  \n",
      " 4   Size            8776 non-null   float64\n",
      " 5   Installs        9134 non-null   int64  \n",
      " 6   Type            9134 non-null   object \n",
      " 7   Price           9134 non-null   float64\n",
      " 8   Content Rating  9134 non-null   object \n",
      " 9   Genres          9134 non-null   object \n",
      " 10  Current Ver     9126 non-null   object \n",
      " 11  Android Ver     9134 non-null   object \n",
      " 12  Day             9134 non-null   int32  \n",
      " 13  Month           9134 non-null   int32  \n",
      " 14  Year            9134 non-null   int32  \n",
      "dtypes: float64(3), int32(3), int64(2), object(7)\n",
      "memory usage: 1.0+ MB\n"
     ]
    }
   ],
   "source": [
    "df_copy.info()"
   ]
  },
  {
   "cell_type": "code",
   "execution_count": 86,
   "id": "d015c384-b7df-40af-be4d-5c1d6e5c3c55",
   "metadata": {},
   "outputs": [],
   "source": [
    "df_copy[\"Android Ver\"]=df_copy[\"Android Ver\"].astype(\"float\")"
   ]
  },
  {
   "cell_type": "code",
   "execution_count": 87,
   "id": "c82eb393-9bfd-44eb-bfdb-571220e62274",
   "metadata": {},
   "outputs": [
    {
     "name": "stdout",
     "output_type": "stream",
     "text": [
      "<class 'pandas.core.frame.DataFrame'>\n",
      "Index: 9134 entries, 0 to 10355\n",
      "Data columns (total 15 columns):\n",
      " #   Column          Non-Null Count  Dtype  \n",
      "---  ------          --------------  -----  \n",
      " 0   App             9134 non-null   object \n",
      " 1   Category        9134 non-null   object \n",
      " 2   Rating          7712 non-null   float64\n",
      " 3   Reviews         9134 non-null   int64  \n",
      " 4   Size            8776 non-null   float64\n",
      " 5   Installs        9134 non-null   int64  \n",
      " 6   Type            9134 non-null   object \n",
      " 7   Price           9134 non-null   float64\n",
      " 8   Content Rating  9134 non-null   object \n",
      " 9   Genres          9134 non-null   object \n",
      " 10  Current Ver     9126 non-null   object \n",
      " 11  Android Ver     9134 non-null   float64\n",
      " 12  Day             9134 non-null   int32  \n",
      " 13  Month           9134 non-null   int32  \n",
      " 14  Year            9134 non-null   int32  \n",
      "dtypes: float64(4), int32(3), int64(2), object(6)\n",
      "memory usage: 1.0+ MB\n"
     ]
    }
   ],
   "source": [
    "df_copy.info()"
   ]
  },
  {
   "cell_type": "code",
   "execution_count": 89,
   "id": "2747ff3d-261d-48eb-aa11-c2d9c492ceaf",
   "metadata": {},
   "outputs": [
    {
     "data": {
      "text/plain": [
       "'4.4'"
      ]
     },
     "execution_count": 89,
     "metadata": {},
     "output_type": "execute_result"
    }
   ],
   "source": [
    "a=\"4.4w\"\n",
    "a.replace(\"w\",'')"
   ]
  },
  {
   "cell_type": "code",
   "execution_count": 101,
   "id": "9bfc4df0-de99-4e73-aa30-4f9b3ebdb201",
   "metadata": {},
   "outputs": [
    {
     "name": "stdout",
     "output_type": "stream",
     "text": [
      "4.4\n",
      "<class 'float'>\n"
     ]
    }
   ],
   "source": [
    "if str(a)[-1]==\"w\":\n",
    "        res= float(str(a).replace(\"w\",\"\"))\n",
    "        print(str(res))\n",
    "print(type(res))"
   ]
  },
  {
   "cell_type": "code",
   "execution_count": 98,
   "id": "7dfd7386-475f-4530-9cfa-852fa5065d21",
   "metadata": {},
   "outputs": [
    {
     "data": {
      "text/plain": [
       "4.4"
      ]
     },
     "execution_count": 98,
     "metadata": {},
     "output_type": "execute_result"
    }
   ],
   "source": [
    "def remove(a):\n",
    "    if str(a)[-1]==\"w\":\n",
    "        res= float(str(a).replace(\"w\",\"\"))\n",
    "        return(res)\n",
    "\n",
    "remove(a)"
   ]
  },
  {
   "cell_type": "code",
   "execution_count": 102,
   "id": "a86d6356-1800-42ec-9b1b-c7104b8b46a8",
   "metadata": {},
   "outputs": [
    {
     "data": {
      "text/html": [
       "<div>\n",
       "<style scoped>\n",
       "    .dataframe tbody tr th:only-of-type {\n",
       "        vertical-align: middle;\n",
       "    }\n",
       "\n",
       "    .dataframe tbody tr th {\n",
       "        vertical-align: top;\n",
       "    }\n",
       "\n",
       "    .dataframe thead th {\n",
       "        text-align: right;\n",
       "    }\n",
       "</style>\n",
       "<table border=\"1\" class=\"dataframe\">\n",
       "  <thead>\n",
       "    <tr style=\"text-align: right;\">\n",
       "      <th></th>\n",
       "      <th>App</th>\n",
       "      <th>Category</th>\n",
       "      <th>Rating</th>\n",
       "      <th>Reviews</th>\n",
       "      <th>Size</th>\n",
       "      <th>Installs</th>\n",
       "      <th>Type</th>\n",
       "      <th>Price</th>\n",
       "      <th>Content Rating</th>\n",
       "      <th>Genres</th>\n",
       "      <th>Current Ver</th>\n",
       "      <th>Android Ver</th>\n",
       "      <th>Day</th>\n",
       "      <th>Month</th>\n",
       "      <th>Year</th>\n",
       "    </tr>\n",
       "  </thead>\n",
       "  <tbody>\n",
       "    <tr>\n",
       "      <th>260</th>\n",
       "      <td>Quick PDF Scanner + OCR FREE</td>\n",
       "      <td>BUSINESS</td>\n",
       "      <td>4.2</td>\n",
       "      <td>80804</td>\n",
       "      <td>NaN</td>\n",
       "      <td>5000000</td>\n",
       "      <td>Free</td>\n",
       "      <td>0.0</td>\n",
       "      <td>Everyone</td>\n",
       "      <td>Business</td>\n",
       "      <td>Varies with device</td>\n",
       "      <td>4.0</td>\n",
       "      <td>26</td>\n",
       "      <td>2</td>\n",
       "      <td>2018</td>\n",
       "    </tr>\n",
       "    <tr>\n",
       "      <th>261</th>\n",
       "      <td>OfficeSuite : Free Office + PDF Editor</td>\n",
       "      <td>BUSINESS</td>\n",
       "      <td>4.3</td>\n",
       "      <td>1002859</td>\n",
       "      <td>35840.0</td>\n",
       "      <td>100000000</td>\n",
       "      <td>Free</td>\n",
       "      <td>0.0</td>\n",
       "      <td>Everyone</td>\n",
       "      <td>Business</td>\n",
       "      <td>9.7.14188</td>\n",
       "      <td>4.1</td>\n",
       "      <td>2</td>\n",
       "      <td>8</td>\n",
       "      <td>2018</td>\n",
       "    </tr>\n",
       "    <tr>\n",
       "      <th>349</th>\n",
       "      <td>imo free video calls and chat</td>\n",
       "      <td>COMMUNICATION</td>\n",
       "      <td>4.3</td>\n",
       "      <td>4785988</td>\n",
       "      <td>11264.0</td>\n",
       "      <td>500000000</td>\n",
       "      <td>Free</td>\n",
       "      <td>0.0</td>\n",
       "      <td>Everyone</td>\n",
       "      <td>Communication</td>\n",
       "      <td>9.8.000000010501</td>\n",
       "      <td>4.0</td>\n",
       "      <td>8</td>\n",
       "      <td>6</td>\n",
       "      <td>2018</td>\n",
       "    </tr>\n",
       "    <tr>\n",
       "      <th>372</th>\n",
       "      <td>Firefox Focus: The privacy browser</td>\n",
       "      <td>COMMUNICATION</td>\n",
       "      <td>4.4</td>\n",
       "      <td>36893</td>\n",
       "      <td>4096.0</td>\n",
       "      <td>1000000</td>\n",
       "      <td>Free</td>\n",
       "      <td>0.0</td>\n",
       "      <td>Everyone</td>\n",
       "      <td>Communication</td>\n",
       "      <td>5.2</td>\n",
       "      <td>5.0</td>\n",
       "      <td>6</td>\n",
       "      <td>7</td>\n",
       "      <td>2018</td>\n",
       "    </tr>\n",
       "    <tr>\n",
       "      <th>374</th>\n",
       "      <td>Google Allo</td>\n",
       "      <td>COMMUNICATION</td>\n",
       "      <td>4.3</td>\n",
       "      <td>346980</td>\n",
       "      <td>NaN</td>\n",
       "      <td>10000000</td>\n",
       "      <td>Free</td>\n",
       "      <td>0.0</td>\n",
       "      <td>Everyone</td>\n",
       "      <td>Communication</td>\n",
       "      <td>Varies with device</td>\n",
       "      <td>4.1</td>\n",
       "      <td>23</td>\n",
       "      <td>1</td>\n",
       "      <td>2018</td>\n",
       "    </tr>\n",
       "    <tr>\n",
       "      <th>...</th>\n",
       "      <td>...</td>\n",
       "      <td>...</td>\n",
       "      <td>...</td>\n",
       "      <td>...</td>\n",
       "      <td>...</td>\n",
       "      <td>...</td>\n",
       "      <td>...</td>\n",
       "      <td>...</td>\n",
       "      <td>...</td>\n",
       "      <td>...</td>\n",
       "      <td>...</td>\n",
       "      <td>...</td>\n",
       "      <td>...</td>\n",
       "      <td>...</td>\n",
       "      <td>...</td>\n",
       "    </tr>\n",
       "    <tr>\n",
       "      <th>10164</th>\n",
       "      <td>Podcast App: Free &amp; Offline Podcasts by Player FM</td>\n",
       "      <td>NEWS_AND_MAGAZINES</td>\n",
       "      <td>4.6</td>\n",
       "      <td>66407</td>\n",
       "      <td>19456.0</td>\n",
       "      <td>1000000</td>\n",
       "      <td>Free</td>\n",
       "      <td>0.0</td>\n",
       "      <td>Teen</td>\n",
       "      <td>News &amp; Magazines</td>\n",
       "      <td>4.1.0.72</td>\n",
       "      <td>4.0</td>\n",
       "      <td>25</td>\n",
       "      <td>7</td>\n",
       "      <td>2018</td>\n",
       "    </tr>\n",
       "    <tr>\n",
       "      <th>10233</th>\n",
       "      <td>FarmersOnly Dating</td>\n",
       "      <td>DATING</td>\n",
       "      <td>3.0</td>\n",
       "      <td>1145</td>\n",
       "      <td>1433.6</td>\n",
       "      <td>100000</td>\n",
       "      <td>Free</td>\n",
       "      <td>0.0</td>\n",
       "      <td>Mature 17+</td>\n",
       "      <td>Dating</td>\n",
       "      <td>2.2</td>\n",
       "      <td>4.0</td>\n",
       "      <td>25</td>\n",
       "      <td>2</td>\n",
       "      <td>2016</td>\n",
       "    </tr>\n",
       "    <tr>\n",
       "      <th>10238</th>\n",
       "      <td>Firefox Focus: The privacy browser</td>\n",
       "      <td>COMMUNICATION</td>\n",
       "      <td>4.4</td>\n",
       "      <td>36981</td>\n",
       "      <td>4096.0</td>\n",
       "      <td>1000000</td>\n",
       "      <td>Free</td>\n",
       "      <td>0.0</td>\n",
       "      <td>Everyone</td>\n",
       "      <td>Communication</td>\n",
       "      <td>5.2</td>\n",
       "      <td>5.0</td>\n",
       "      <td>6</td>\n",
       "      <td>7</td>\n",
       "      <td>2018</td>\n",
       "    </tr>\n",
       "    <tr>\n",
       "      <th>10248</th>\n",
       "      <td>FP Notebook</td>\n",
       "      <td>MEDICAL</td>\n",
       "      <td>4.5</td>\n",
       "      <td>410</td>\n",
       "      <td>61440.0</td>\n",
       "      <td>50000</td>\n",
       "      <td>Free</td>\n",
       "      <td>0.0</td>\n",
       "      <td>Everyone</td>\n",
       "      <td>Medical</td>\n",
       "      <td>2.1.0.372</td>\n",
       "      <td>4.4</td>\n",
       "      <td>24</td>\n",
       "      <td>3</td>\n",
       "      <td>2018</td>\n",
       "    </tr>\n",
       "    <tr>\n",
       "      <th>10271</th>\n",
       "      <td>Slickdeals: Coupons &amp; Shopping</td>\n",
       "      <td>SHOPPING</td>\n",
       "      <td>4.5</td>\n",
       "      <td>33599</td>\n",
       "      <td>12288.0</td>\n",
       "      <td>1000000</td>\n",
       "      <td>Free</td>\n",
       "      <td>0.0</td>\n",
       "      <td>Everyone</td>\n",
       "      <td>Shopping</td>\n",
       "      <td>3.9</td>\n",
       "      <td>4.4</td>\n",
       "      <td>30</td>\n",
       "      <td>7</td>\n",
       "      <td>2018</td>\n",
       "    </tr>\n",
       "  </tbody>\n",
       "</table>\n",
       "<p>465 rows × 15 columns</p>\n",
       "</div>"
      ],
      "text/plain": [
       "                                                     App            Category  \\\n",
       "260                         Quick PDF Scanner + OCR FREE            BUSINESS   \n",
       "261               OfficeSuite : Free Office + PDF Editor            BUSINESS   \n",
       "349                        imo free video calls and chat       COMMUNICATION   \n",
       "372                   Firefox Focus: The privacy browser       COMMUNICATION   \n",
       "374                                          Google Allo       COMMUNICATION   \n",
       "...                                                  ...                 ...   \n",
       "10164  Podcast App: Free & Offline Podcasts by Player FM  NEWS_AND_MAGAZINES   \n",
       "10233                                 FarmersOnly Dating              DATING   \n",
       "10238                 Firefox Focus: The privacy browser       COMMUNICATION   \n",
       "10248                                        FP Notebook             MEDICAL   \n",
       "10271                     Slickdeals: Coupons & Shopping            SHOPPING   \n",
       "\n",
       "       Rating  Reviews     Size   Installs  Type  Price Content Rating  \\\n",
       "260       4.2    80804      NaN    5000000  Free    0.0       Everyone   \n",
       "261       4.3  1002859  35840.0  100000000  Free    0.0       Everyone   \n",
       "349       4.3  4785988  11264.0  500000000  Free    0.0       Everyone   \n",
       "372       4.4    36893   4096.0    1000000  Free    0.0       Everyone   \n",
       "374       4.3   346980      NaN   10000000  Free    0.0       Everyone   \n",
       "...       ...      ...      ...        ...   ...    ...            ...   \n",
       "10164     4.6    66407  19456.0    1000000  Free    0.0           Teen   \n",
       "10233     3.0     1145   1433.6     100000  Free    0.0     Mature 17+   \n",
       "10238     4.4    36981   4096.0    1000000  Free    0.0       Everyone   \n",
       "10248     4.5      410  61440.0      50000  Free    0.0       Everyone   \n",
       "10271     4.5    33599  12288.0    1000000  Free    0.0       Everyone   \n",
       "\n",
       "                 Genres         Current Ver  Android Ver  Day  Month  Year  \n",
       "260            Business  Varies with device          4.0   26      2  2018  \n",
       "261            Business           9.7.14188          4.1    2      8  2018  \n",
       "349       Communication    9.8.000000010501          4.0    8      6  2018  \n",
       "372       Communication                 5.2          5.0    6      7  2018  \n",
       "374       Communication  Varies with device          4.1   23      1  2018  \n",
       "...                 ...                 ...          ...  ...    ...   ...  \n",
       "10164  News & Magazines            4.1.0.72          4.0   25      7  2018  \n",
       "10233            Dating                 2.2          4.0   25      2  2016  \n",
       "10238     Communication                 5.2          5.0    6      7  2018  \n",
       "10248           Medical           2.1.0.372          4.4   24      3  2018  \n",
       "10271          Shopping                 3.9          4.4   30      7  2018  \n",
       "\n",
       "[465 rows x 15 columns]"
      ]
     },
     "execution_count": 102,
     "metadata": {},
     "output_type": "execute_result"
    }
   ],
   "source": [
    "df_copy[df_copy.duplicated(\"App\")]"
   ]
  },
  {
   "cell_type": "code",
   "execution_count": 103,
   "id": "a35a6a53-e65b-429a-9a13-b114523be163",
   "metadata": {},
   "outputs": [],
   "source": [
    "df_copy=df_copy.drop_duplicates(subset =[\"App\"],keep = \"first\")"
   ]
  },
  {
   "cell_type": "code",
   "execution_count": 104,
   "id": "7428c877-d9e3-4114-b148-e2f7b1d98d52",
   "metadata": {},
   "outputs": [
    {
     "data": {
      "text/html": [
       "<div>\n",
       "<style scoped>\n",
       "    .dataframe tbody tr th:only-of-type {\n",
       "        vertical-align: middle;\n",
       "    }\n",
       "\n",
       "    .dataframe tbody tr th {\n",
       "        vertical-align: top;\n",
       "    }\n",
       "\n",
       "    .dataframe thead th {\n",
       "        text-align: right;\n",
       "    }\n",
       "</style>\n",
       "<table border=\"1\" class=\"dataframe\">\n",
       "  <thead>\n",
       "    <tr style=\"text-align: right;\">\n",
       "      <th></th>\n",
       "      <th>App</th>\n",
       "      <th>Category</th>\n",
       "      <th>Rating</th>\n",
       "      <th>Reviews</th>\n",
       "      <th>Size</th>\n",
       "      <th>Installs</th>\n",
       "      <th>Type</th>\n",
       "      <th>Price</th>\n",
       "      <th>Content Rating</th>\n",
       "      <th>Genres</th>\n",
       "      <th>Current Ver</th>\n",
       "      <th>Android Ver</th>\n",
       "      <th>Day</th>\n",
       "      <th>Month</th>\n",
       "      <th>Year</th>\n",
       "    </tr>\n",
       "  </thead>\n",
       "  <tbody>\n",
       "  </tbody>\n",
       "</table>\n",
       "</div>"
      ],
      "text/plain": [
       "Empty DataFrame\n",
       "Columns: [App, Category, Rating, Reviews, Size, Installs, Type, Price, Content Rating, Genres, Current Ver, Android Ver, Day, Month, Year]\n",
       "Index: []"
      ]
     },
     "execution_count": 104,
     "metadata": {},
     "output_type": "execute_result"
    }
   ],
   "source": [
    "df_copy[df_copy.duplicated(\"App\")]"
   ]
  },
  {
   "cell_type": "markdown",
   "id": "4b9a6a04-5d50-4f4c-8647-d8a4fb5d03b3",
   "metadata": {},
   "source": [
    "# Exporatory Data Analysis"
   ]
  },
  {
   "cell_type": "code",
   "execution_count": 109,
   "id": "b6a5835a-a6ae-47a6-b5c5-6b24caf12e56",
   "metadata": {},
   "outputs": [],
   "source": [
    "categorical_features =[features for features in df_copy.columns if df_copy[features].dtype ==\"O\"]"
   ]
  },
  {
   "cell_type": "code",
   "execution_count": 108,
   "id": "74f891fd-b3de-4e19-a840-66a51cb159bd",
   "metadata": {},
   "outputs": [
    {
     "data": {
      "text/plain": [
       "Index(['App', 'Category', 'Rating', 'Reviews', 'Size', 'Installs', 'Type',\n",
       "       'Price', 'Content Rating', 'Genres', 'Current Ver', 'Android Ver',\n",
       "       'Day', 'Month', 'Year'],\n",
       "      dtype='object')"
      ]
     },
     "execution_count": 108,
     "metadata": {},
     "output_type": "execute_result"
    }
   ],
   "source": [
    "df_copy.columns"
   ]
  },
  {
   "cell_type": "code",
   "execution_count": 110,
   "id": "9a4d413e-3b38-463d-900e-f1eba79aecac",
   "metadata": {},
   "outputs": [
    {
     "data": {
      "text/plain": [
       "['App', 'Category', 'Type', 'Content Rating', 'Genres', 'Current Ver']"
      ]
     },
     "execution_count": 110,
     "metadata": {},
     "output_type": "execute_result"
    }
   ],
   "source": [
    "categorical_features"
   ]
  },
  {
   "cell_type": "code",
   "execution_count": 112,
   "id": "d17f5f5b-77c8-44a1-89bc-c6f8e4922fc3",
   "metadata": {},
   "outputs": [],
   "source": [
    "#numerical columns\n",
    "numerical_features =[features for features in df_copy.columns if df_copy[features].dtype !=\"O\"]"
   ]
  },
  {
   "cell_type": "code",
   "execution_count": 113,
   "id": "74278f75-d09c-43e9-8a00-f2a7eaf1d0c9",
   "metadata": {},
   "outputs": [
    {
     "data": {
      "text/plain": [
       "['Rating',\n",
       " 'Reviews',\n",
       " 'Size',\n",
       " 'Installs',\n",
       " 'Price',\n",
       " 'Android Ver',\n",
       " 'Day',\n",
       " 'Month',\n",
       " 'Year']"
      ]
     },
     "execution_count": 113,
     "metadata": {},
     "output_type": "execute_result"
    }
   ],
   "source": [
    "numerical_features"
   ]
  },
  {
   "cell_type": "code",
   "execution_count": 114,
   "id": "9ac5d0d5-634d-4456-ac7a-9b400f915e52",
   "metadata": {},
   "outputs": [
    {
     "data": {
      "text/plain": [
       "Type\n",
       "Free    92.005998\n",
       "Paid     7.994002\n",
       "Name: proportion, dtype: float64"
      ]
     },
     "execution_count": 114,
     "metadata": {},
     "output_type": "execute_result"
    }
   ],
   "source": [
    "df_copy[\"Type\"].value_counts(normalize =True)*100"
   ]
  },
  {
   "cell_type": "code",
   "execution_count": 116,
   "id": "4f5135de-2773-4833-a0a6-c79f48c0293b",
   "metadata": {},
   "outputs": [
    {
     "data": {
      "text/plain": [
       "<Axes: xlabel='Type', ylabel='count'>"
      ]
     },
     "execution_count": 116,
     "metadata": {},
     "output_type": "execute_result"
    },
    {
     "data": {
      "image/png": "[encoded data removed]",
      "text/plain": [
       "<Figure size 640x480 with 1 Axes>"
      ]
     },
     "metadata": {},
     "output_type": "display_data"
    }
   ],
   "source": [
    "sns.countplot(x=\"Type\", data=df_copy, palette=\"Set2\")"
   ]
  },
  {
   "cell_type": "code",
   "execution_count": 117,
   "id": "86a3850a-4bb5-44ff-932f-737b2e3d1e53",
   "metadata": {},
   "outputs": [
    {
     "data": {
      "text/plain": [
       "<Axes: xlabel='Content Rating', ylabel='count'>"
      ]
     },
     "execution_count": 117,
     "metadata": {},
     "output_type": "execute_result"
    },
    {
     "data": {
      "image/png": "[encoded data removed]",
      "text/plain": [
       "<Figure size 640x480 with 1 Axes>"
      ]
     },
     "metadata": {},
     "output_type": "display_data"
    }
   ],
   "source": [
    "sns.countplot(x=\"Content Rating\", data=df_copy, palette=\"Set2\")"
   ]
  },
  {
   "cell_type": "code",
   "execution_count": 118,
   "id": "40414739-fb02-4f16-ace6-207ef246419c",
   "metadata": {},
   "outputs": [
    {
     "data": {
      "text/plain": [
       "<Axes: xlabel='Price', ylabel='Density'>"
      ]
     },
     "execution_count": 118,
     "metadata": {},
     "output_type": "execute_result"
    },
    {
     "data": {
      "image/png": "[encoded data removed]",
      "text/plain": [
       "<Figure size 640x480 with 1 Axes>"
      ]
     },
     "metadata": {},
     "output_type": "display_data"
    }
   ],
   "source": [
    "sns.distplot(df_copy[\"Price\"],kde =True)"
   ]
  },
  {
   "cell_type": "code",
   "execution_count": 119,
   "id": "3c0a5535-401c-4179-a2fd-61a20302b789",
   "metadata": {},
   "outputs": [
    {
     "data": {
      "text/plain": [
       "<Axes: xlabel='Rating', ylabel='Density'>"
      ]
     },
     "execution_count": 119,
     "metadata": {},
     "output_type": "execute_result"
    },
    {
     "data": {
      "image/png": "[encoded data removed]",
      "text/plain": [
       "<Figure size 640x480 with 1 Axes>"
      ]
     },
     "metadata": {},
     "output_type": "display_data"
    }
   ],
   "source": [
    "sns.distplot(df_copy[\"Rating\"],kde =True)"
   ]
  },
  {
   "cell_type": "code",
   "execution_count": 120,
   "id": "ced35b3e-ad68-40d7-91ab-0b9db3eb620e",
   "metadata": {},
   "outputs": [
    {
     "data": {
      "text/plain": [
       "<Axes: xlabel='Rating', ylabel='Density'>"
      ]
     },
     "execution_count": 120,
     "metadata": {},
     "output_type": "execute_result"
    },
    {
     "data": {
      "image/png": "[encoded data removed]",
      "text/plain": [
       "<Figure size 640x480 with 1 Axes>"
      ]
     },
     "metadata": {},
     "output_type": "display_data"
    }
   ],
   "source": [
    "sns.kdeplot(df_copy[\"Rating\"])"
   ]
  },
  {
   "cell_type": "code",
   "execution_count": 121,
   "id": "206727d1-5b1c-449b-8179-320a14f6055e",
   "metadata": {},
   "outputs": [
    {
     "data": {
      "image/png": "[encoded data removed]",
      "text/plain": [
       "<Figure size 2000x1500 with 2 Axes>"
      ]
     },
     "metadata": {},
     "output_type": "display_data"
    }
   ],
   "source": [
    "plt.figure(figsize =(20,15))\n",
    "category =[\"Type\",\"Content Rating\"]\n",
    "for i in range(0,len(category)):\n",
    "    plt.subplot(2,2,i+1)\n",
    "    sns.countplot(x=df[category[i]],palette =\"Set2\")\n",
    "    plt.xlabel(category[i])\n",
    "    plt.xticks(rotation = 45)\n",
    "    plt.tight_layout()"
   ]
  },
  {
   "cell_type": "code",
   "execution_count": 129,
   "id": "3b3a8e45-684a-46cc-b117-fadaf083e8bb",
   "metadata": {},
   "outputs": [
    {
     "data": {
      "text/plain": [
       "<Axes: ylabel='count'>"
      ]
     },
     "execution_count": 129,
     "metadata": {},
     "output_type": "execute_result"
    },
    {
     "data": {
      "image/png": "[encoded data removed]",
      "text/plain": [
       "<Figure size 1200x1200 with 1 Axes>"
      ]
     },
     "metadata": {},
     "output_type": "display_data"
    }
   ],
   "source": [
    "df_copy[\"Category\"].value_counts().plot.pie(y=df[\"Category\"],figsize =(12,12),autopct = '%1.1f%%')"
   ]
  },
  {
   "cell_type": "code",
   "execution_count": 131,
   "id": "de7e0129-2913-4455-85bf-cde405d9dbcb",
   "metadata": {},
   "outputs": [
    {
     "data": {
      "text/plain": [
       "Category\n",
       "FAMILY                 20.417580\n",
       "GAME                   10.566386\n",
       "TOOLS                   8.501557\n",
       "BUSINESS                4.475718\n",
       "MEDICAL                 4.314223\n",
       "PERSONALIZATION         4.014304\n",
       "LIFESTYLE               3.922021\n",
       "FINANCE                 3.506748\n",
       "PRODUCTIVITY            3.483677\n",
       "SPORTS                  3.379859\n",
       "COMMUNICATION           2.929980\n",
       "PHOTOGRAPHY             2.756950\n",
       "HEALTH_AND_FITNESS      2.699273\n",
       "NEWS_AND_MAGAZINES      2.364748\n",
       "SOCIAL                  2.284000\n",
       "BOOKS_AND_REFERENCE     2.272465\n",
       "TRAVEL_AND_LOCAL        2.087899\n",
       "SHOPPING                1.984081\n",
       "DATING                  1.903334\n",
       "VIDEO_PLAYERS           1.568808\n",
       "MAPS_AND_NAVIGATION     1.257354\n",
       "EDUCATION               1.072788\n",
       "FOOD_AND_DRINK          1.049717\n",
       "LIBRARIES_AND_DEMO      0.934364\n",
       "AUTO_AND_VEHICLES       0.899758\n",
       "ENTERTAINMENT           0.795940\n",
       "ART_AND_DESIGN          0.726727\n",
       "HOUSE_AND_HOME          0.715192\n",
       "EVENTS                  0.657515\n",
       "PARENTING               0.657515\n",
       "WEATHER                 0.657515\n",
       "BEAUTY                  0.576768\n",
       "COMICS                  0.565232\n",
       "Name: proportion, dtype: float64"
      ]
     },
     "execution_count": 131,
     "metadata": {},
     "output_type": "execute_result"
    }
   ],
   "source": [
    "df_copy[\"Category\"].value_counts(normalize =True)*100\n"
   ]
  },
  {
   "cell_type": "code",
   "execution_count": 132,
   "id": "07e5447e-43bf-4244-b811-e596b77b6585",
   "metadata": {},
   "outputs": [
    {
     "data": {
      "text/plain": [
       "Category\n",
       "FAMILY             1770\n",
       "GAME                916\n",
       "TOOLS               737\n",
       "BUSINESS            388\n",
       "MEDICAL             374\n",
       "PERSONALIZATION     348\n",
       "LIFESTYLE           340\n",
       "FINANCE             304\n",
       "PRODUCTIVITY        302\n",
       "SPORTS              293\n",
       "Name: count, dtype: int64"
      ]
     },
     "execution_count": 132,
     "metadata": {},
     "output_type": "execute_result"
    }
   ],
   "source": [
    "#which is the top 10 most popular category \n",
    "df_copy[\"Category\"].value_counts()[:10]"
   ]
  },
  {
   "cell_type": "code",
   "execution_count": 133,
   "id": "e263d560-6f66-4de7-9d6a-a420804afff5",
   "metadata": {},
   "outputs": [],
   "source": [
    "cat =df_copy[\"Category\"].value_counts()[:10]"
   ]
  },
  {
   "cell_type": "code",
   "execution_count": 134,
   "id": "c6a6384a-0379-4b77-9c57-6db95ca775cf",
   "metadata": {},
   "outputs": [
    {
     "data": {
      "text/html": [
       "<div>\n",
       "<style scoped>\n",
       "    .dataframe tbody tr th:only-of-type {\n",
       "        vertical-align: middle;\n",
       "    }\n",
       "\n",
       "    .dataframe tbody tr th {\n",
       "        vertical-align: top;\n",
       "    }\n",
       "\n",
       "    .dataframe thead th {\n",
       "        text-align: right;\n",
       "    }\n",
       "</style>\n",
       "<table border=\"1\" class=\"dataframe\">\n",
       "  <thead>\n",
       "    <tr style=\"text-align: right;\">\n",
       "      <th></th>\n",
       "      <th>Category</th>\n",
       "      <th>count</th>\n",
       "    </tr>\n",
       "  </thead>\n",
       "  <tbody>\n",
       "    <tr>\n",
       "      <th>0</th>\n",
       "      <td>FAMILY</td>\n",
       "      <td>1770</td>\n",
       "    </tr>\n",
       "    <tr>\n",
       "      <th>1</th>\n",
       "      <td>GAME</td>\n",
       "      <td>916</td>\n",
       "    </tr>\n",
       "    <tr>\n",
       "      <th>2</th>\n",
       "      <td>TOOLS</td>\n",
       "      <td>737</td>\n",
       "    </tr>\n",
       "    <tr>\n",
       "      <th>3</th>\n",
       "      <td>BUSINESS</td>\n",
       "      <td>388</td>\n",
       "    </tr>\n",
       "    <tr>\n",
       "      <th>4</th>\n",
       "      <td>MEDICAL</td>\n",
       "      <td>374</td>\n",
       "    </tr>\n",
       "    <tr>\n",
       "      <th>5</th>\n",
       "      <td>PERSONALIZATION</td>\n",
       "      <td>348</td>\n",
       "    </tr>\n",
       "    <tr>\n",
       "      <th>6</th>\n",
       "      <td>LIFESTYLE</td>\n",
       "      <td>340</td>\n",
       "    </tr>\n",
       "    <tr>\n",
       "      <th>7</th>\n",
       "      <td>FINANCE</td>\n",
       "      <td>304</td>\n",
       "    </tr>\n",
       "    <tr>\n",
       "      <th>8</th>\n",
       "      <td>PRODUCTIVITY</td>\n",
       "      <td>302</td>\n",
       "    </tr>\n",
       "    <tr>\n",
       "      <th>9</th>\n",
       "      <td>SPORTS</td>\n",
       "      <td>293</td>\n",
       "    </tr>\n",
       "  </tbody>\n",
       "</table>\n",
       "</div>"
      ],
      "text/plain": [
       "          Category  count\n",
       "0           FAMILY   1770\n",
       "1             GAME    916\n",
       "2            TOOLS    737\n",
       "3         BUSINESS    388\n",
       "4          MEDICAL    374\n",
       "5  PERSONALIZATION    348\n",
       "6        LIFESTYLE    340\n",
       "7          FINANCE    304\n",
       "8     PRODUCTIVITY    302\n",
       "9           SPORTS    293"
      ]
     },
     "execution_count": 134,
     "metadata": {},
     "output_type": "execute_result"
    }
   ],
   "source": [
    "category = cat.reset_index()\n",
    "category"
   ]
  },
  {
   "cell_type": "code",
   "execution_count": 136,
   "id": "2bcc061e-ef52-46b2-a98d-202b0d2e4b6d",
   "metadata": {},
   "outputs": [
    {
     "data": {
      "text/html": [
       "<div>\n",
       "<style scoped>\n",
       "    .dataframe tbody tr th:only-of-type {\n",
       "        vertical-align: middle;\n",
       "    }\n",
       "\n",
       "    .dataframe tbody tr th {\n",
       "        vertical-align: top;\n",
       "    }\n",
       "\n",
       "    .dataframe thead th {\n",
       "        text-align: right;\n",
       "    }\n",
       "</style>\n",
       "<table border=\"1\" class=\"dataframe\">\n",
       "  <thead>\n",
       "    <tr style=\"text-align: right;\">\n",
       "      <th></th>\n",
       "      <th>Group</th>\n",
       "      <th>Counts</th>\n",
       "    </tr>\n",
       "  </thead>\n",
       "  <tbody>\n",
       "    <tr>\n",
       "      <th>0</th>\n",
       "      <td>FAMILY</td>\n",
       "      <td>1770</td>\n",
       "    </tr>\n",
       "    <tr>\n",
       "      <th>1</th>\n",
       "      <td>GAME</td>\n",
       "      <td>916</td>\n",
       "    </tr>\n",
       "    <tr>\n",
       "      <th>2</th>\n",
       "      <td>TOOLS</td>\n",
       "      <td>737</td>\n",
       "    </tr>\n",
       "    <tr>\n",
       "      <th>3</th>\n",
       "      <td>BUSINESS</td>\n",
       "      <td>388</td>\n",
       "    </tr>\n",
       "    <tr>\n",
       "      <th>4</th>\n",
       "      <td>MEDICAL</td>\n",
       "      <td>374</td>\n",
       "    </tr>\n",
       "    <tr>\n",
       "      <th>5</th>\n",
       "      <td>PERSONALIZATION</td>\n",
       "      <td>348</td>\n",
       "    </tr>\n",
       "    <tr>\n",
       "      <th>6</th>\n",
       "      <td>LIFESTYLE</td>\n",
       "      <td>340</td>\n",
       "    </tr>\n",
       "    <tr>\n",
       "      <th>7</th>\n",
       "      <td>FINANCE</td>\n",
       "      <td>304</td>\n",
       "    </tr>\n",
       "    <tr>\n",
       "      <th>8</th>\n",
       "      <td>PRODUCTIVITY</td>\n",
       "      <td>302</td>\n",
       "    </tr>\n",
       "    <tr>\n",
       "      <th>9</th>\n",
       "      <td>SPORTS</td>\n",
       "      <td>293</td>\n",
       "    </tr>\n",
       "  </tbody>\n",
       "</table>\n",
       "</div>"
      ],
      "text/plain": [
       "             Group  Counts\n",
       "0           FAMILY    1770\n",
       "1             GAME     916\n",
       "2            TOOLS     737\n",
       "3         BUSINESS     388\n",
       "4          MEDICAL     374\n",
       "5  PERSONALIZATION     348\n",
       "6        LIFESTYLE     340\n",
       "7          FINANCE     304\n",
       "8     PRODUCTIVITY     302\n",
       "9           SPORTS     293"
      ]
     },
     "execution_count": 136,
     "metadata": {},
     "output_type": "execute_result"
    }
   ],
   "source": [
    "category.columns =[\"Group\",\"Counts\"]\n",
    "category"
   ]
  },
  {
   "cell_type": "code",
   "execution_count": 142,
   "id": "b914ca8d-9a0b-482f-8476-95f5e4ab13ec",
   "metadata": {},
   "outputs": [
    {
     "data": {
      "text/plain": [
       "<Axes: xlabel='Group', ylabel='Counts'>"
      ]
     },
     "execution_count": 142,
     "metadata": {},
     "output_type": "execute_result"
    },
    {
     "data": {
      "image/png": "[encoded data removed]",
      "text/plain": [
       "<Figure size 1200x600 with 1 Axes>"
      ]
     },
     "metadata": {},
     "output_type": "display_data"
    }
   ],
   "source": [
    "plt.figure(figsize=(12, 6))\n",
    "sns.barplot(category,x= category['Group'],y=category['Counts'],palette =\"Set2\")"
   ]
  },
  {
   "cell_type": "code",
   "execution_count": 139,
   "id": "4ee75ef0-64b2-4fb9-848f-ef4e170aad6c",
   "metadata": {},
   "outputs": [
    {
     "data": {
      "image/png": "[encoded data removed]",
      "text/plain": [
       "<Figure size 1000x800 with 1 Axes>"
      ]
     },
     "metadata": {},
     "output_type": "display_data"
    }
   ],
   "source": [
    "plt.figure(figsize=(10, 8))\n",
    "sns.barplot(y='Group', x='Counts', data=category, palette=\"Set2\")\n",
    "plt.show()"
   ]
  },
  {
   "cell_type": "code",
   "execution_count": 146,
   "id": "02189f4a-2b8e-4af8-aff3-4d2da1de2e5e",
   "metadata": {},
   "outputs": [
    {
     "data": {
      "text/html": [
       "<div>\n",
       "<style scoped>\n",
       "    .dataframe tbody tr th:only-of-type {\n",
       "        vertical-align: middle;\n",
       "    }\n",
       "\n",
       "    .dataframe tbody tr th {\n",
       "        vertical-align: top;\n",
       "    }\n",
       "\n",
       "    .dataframe thead th {\n",
       "        text-align: right;\n",
       "    }\n",
       "</style>\n",
       "<table border=\"1\" class=\"dataframe\">\n",
       "  <thead>\n",
       "    <tr style=\"text-align: right;\">\n",
       "      <th></th>\n",
       "      <th>Category</th>\n",
       "      <th>Installs</th>\n",
       "    </tr>\n",
       "  </thead>\n",
       "  <tbody>\n",
       "    <tr>\n",
       "      <th>0</th>\n",
       "      <td>GAME</td>\n",
       "      <td>13087064264</td>\n",
       "    </tr>\n",
       "    <tr>\n",
       "      <th>1</th>\n",
       "      <td>FAMILY</td>\n",
       "      <td>4005407335</td>\n",
       "    </tr>\n",
       "    <tr>\n",
       "      <th>2</th>\n",
       "      <td>TOOLS</td>\n",
       "      <td>3006154815</td>\n",
       "    </tr>\n",
       "    <tr>\n",
       "      <th>3</th>\n",
       "      <td>COMMUNICATION</td>\n",
       "      <td>2653153051</td>\n",
       "    </tr>\n",
       "    <tr>\n",
       "      <th>4</th>\n",
       "      <td>PHOTOGRAPHY</td>\n",
       "      <td>2036997655</td>\n",
       "    </tr>\n",
       "    <tr>\n",
       "      <th>5</th>\n",
       "      <td>PRODUCTIVITY</td>\n",
       "      <td>1748513744</td>\n",
       "    </tr>\n",
       "    <tr>\n",
       "      <th>6</th>\n",
       "      <td>NEWS_AND_MAGAZINES</td>\n",
       "      <td>1182106760</td>\n",
       "    </tr>\n",
       "    <tr>\n",
       "      <th>7</th>\n",
       "      <td>VIDEO_PLAYERS</td>\n",
       "      <td>964677720</td>\n",
       "    </tr>\n",
       "    <tr>\n",
       "      <th>8</th>\n",
       "      <td>SPORTS</td>\n",
       "      <td>892454498</td>\n",
       "    </tr>\n",
       "    <tr>\n",
       "      <th>9</th>\n",
       "      <td>PERSONALIZATION</td>\n",
       "      <td>855068772</td>\n",
       "    </tr>\n",
       "    <tr>\n",
       "      <th>10</th>\n",
       "      <td>SHOPPING</td>\n",
       "      <td>830248785</td>\n",
       "    </tr>\n",
       "    <tr>\n",
       "      <th>11</th>\n",
       "      <td>HEALTH_AND_FITNESS</td>\n",
       "      <td>766561912</td>\n",
       "    </tr>\n",
       "    <tr>\n",
       "      <th>12</th>\n",
       "      <td>SOCIAL</td>\n",
       "      <td>673765902</td>\n",
       "    </tr>\n",
       "    <tr>\n",
       "      <th>13</th>\n",
       "      <td>ENTERTAINMENT</td>\n",
       "      <td>623860000</td>\n",
       "    </tr>\n",
       "    <tr>\n",
       "      <th>14</th>\n",
       "      <td>TRAVEL_AND_LOCAL</td>\n",
       "      <td>463666146</td>\n",
       "    </tr>\n",
       "    <tr>\n",
       "      <th>15</th>\n",
       "      <td>BUSINESS</td>\n",
       "      <td>400432760</td>\n",
       "    </tr>\n",
       "    <tr>\n",
       "      <th>16</th>\n",
       "      <td>LIFESTYLE</td>\n",
       "      <td>391902439</td>\n",
       "    </tr>\n",
       "    <tr>\n",
       "      <th>17</th>\n",
       "      <td>FINANCE</td>\n",
       "      <td>256632634</td>\n",
       "    </tr>\n",
       "    <tr>\n",
       "      <th>18</th>\n",
       "      <td>MAPS_AND_NAVIGATION</td>\n",
       "      <td>184079890</td>\n",
       "    </tr>\n",
       "    <tr>\n",
       "      <th>19</th>\n",
       "      <td>EDUCATION</td>\n",
       "      <td>177402000</td>\n",
       "    </tr>\n",
       "    <tr>\n",
       "      <th>20</th>\n",
       "      <td>FOOD_AND_DRINK</td>\n",
       "      <td>139588740</td>\n",
       "    </tr>\n",
       "    <tr>\n",
       "      <th>21</th>\n",
       "      <td>BOOKS_AND_REFERENCE</td>\n",
       "      <td>134962576</td>\n",
       "    </tr>\n",
       "    <tr>\n",
       "      <th>22</th>\n",
       "      <td>WEATHER</td>\n",
       "      <td>129400020</td>\n",
       "    </tr>\n",
       "    <tr>\n",
       "      <th>23</th>\n",
       "      <td>ART_AND_DESIGN</td>\n",
       "      <td>104338100</td>\n",
       "    </tr>\n",
       "    <tr>\n",
       "      <th>24</th>\n",
       "      <td>DATING</td>\n",
       "      <td>94926107</td>\n",
       "    </tr>\n",
       "    <tr>\n",
       "      <th>25</th>\n",
       "      <td>LIBRARIES_AND_DEMO</td>\n",
       "      <td>51895910</td>\n",
       "    </tr>\n",
       "    <tr>\n",
       "      <th>26</th>\n",
       "      <td>HOUSE_AND_HOME</td>\n",
       "      <td>51612461</td>\n",
       "    </tr>\n",
       "    <tr>\n",
       "      <th>27</th>\n",
       "      <td>AUTO_AND_VEHICLES</td>\n",
       "      <td>44880211</td>\n",
       "    </tr>\n",
       "    <tr>\n",
       "      <th>28</th>\n",
       "      <td>MEDICAL</td>\n",
       "      <td>35680667</td>\n",
       "    </tr>\n",
       "    <tr>\n",
       "      <th>29</th>\n",
       "      <td>PARENTING</td>\n",
       "      <td>24521110</td>\n",
       "    </tr>\n",
       "    <tr>\n",
       "      <th>30</th>\n",
       "      <td>COMICS</td>\n",
       "      <td>21481150</td>\n",
       "    </tr>\n",
       "    <tr>\n",
       "      <th>31</th>\n",
       "      <td>BEAUTY</td>\n",
       "      <td>15197050</td>\n",
       "    </tr>\n",
       "    <tr>\n",
       "      <th>32</th>\n",
       "      <td>EVENTS</td>\n",
       "      <td>5672561</td>\n",
       "    </tr>\n",
       "  </tbody>\n",
       "</table>\n",
       "</div>"
      ],
      "text/plain": [
       "               Category     Installs\n",
       "0                  GAME  13087064264\n",
       "1                FAMILY   4005407335\n",
       "2                 TOOLS   3006154815\n",
       "3         COMMUNICATION   2653153051\n",
       "4           PHOTOGRAPHY   2036997655\n",
       "5          PRODUCTIVITY   1748513744\n",
       "6    NEWS_AND_MAGAZINES   1182106760\n",
       "7         VIDEO_PLAYERS    964677720\n",
       "8                SPORTS    892454498\n",
       "9       PERSONALIZATION    855068772\n",
       "10             SHOPPING    830248785\n",
       "11   HEALTH_AND_FITNESS    766561912\n",
       "12               SOCIAL    673765902\n",
       "13        ENTERTAINMENT    623860000\n",
       "14     TRAVEL_AND_LOCAL    463666146\n",
       "15             BUSINESS    400432760\n",
       "16            LIFESTYLE    391902439\n",
       "17              FINANCE    256632634\n",
       "18  MAPS_AND_NAVIGATION    184079890\n",
       "19            EDUCATION    177402000\n",
       "20       FOOD_AND_DRINK    139588740\n",
       "21  BOOKS_AND_REFERENCE    134962576\n",
       "22              WEATHER    129400020\n",
       "23       ART_AND_DESIGN    104338100\n",
       "24               DATING     94926107\n",
       "25   LIBRARIES_AND_DEMO     51895910\n",
       "26       HOUSE_AND_HOME     51612461\n",
       "27    AUTO_AND_VEHICLES     44880211\n",
       "28              MEDICAL     35680667\n",
       "29            PARENTING     24521110\n",
       "30               COMICS     21481150\n",
       "31               BEAUTY     15197050\n",
       "32               EVENTS      5672561"
      ]
     },
     "execution_count": 146,
     "metadata": {},
     "output_type": "execute_result"
    }
   ],
   "source": [
    "df_copy.groupby([\"Category\"])[\"Installs\"].sum().sort_values(ascending = False).reset_index()"
   ]
  },
  {
   "cell_type": "code",
   "execution_count": 147,
   "id": "832d47d1-792d-42aa-867b-58832f59d747",
   "metadata": {},
   "outputs": [
    {
     "data": {
      "text/plain": [
       "<Axes: ylabel='Rating'>"
      ]
     },
     "execution_count": 147,
     "metadata": {},
     "output_type": "execute_result"
    },
    {
     "data": {
      "image/png": "[encoded data removed]",
      "text/plain": [
       "<Figure size 640x480 with 1 Axes>"
      ]
     },
     "metadata": {},
     "output_type": "display_data"
    }
   ],
   "source": [
    "sns.boxplot(df_copy[\"Rating\"])"
   ]
  },
  {
   "cell_type": "code",
   "execution_count": null,
   "id": "bc7250c7-869e-46dd-879a-0b029c97093e",
   "metadata": {},
   "outputs": [],
   "source": []
  },
  {
   "cell_type": "code",
   "execution_count": 171,
   "id": "ab0ac714-1393-4526-80f2-fe31b156d1da",
   "metadata": {},
   "outputs": [
    {
     "data": {
      "text/plain": [
       "Category\n",
       "FAMILY                 1770\n",
       "GAME                    916\n",
       "TOOLS                   737\n",
       "BUSINESS                388\n",
       "MEDICAL                 374\n",
       "PERSONALIZATION         348\n",
       "LIFESTYLE               340\n",
       "FINANCE                 304\n",
       "PRODUCTIVITY            302\n",
       "SPORTS                  293\n",
       "COMMUNICATION           254\n",
       "PHOTOGRAPHY             239\n",
       "HEALTH_AND_FITNESS      234\n",
       "NEWS_AND_MAGAZINES      205\n",
       "SOCIAL                  198\n",
       "BOOKS_AND_REFERENCE     197\n",
       "TRAVEL_AND_LOCAL        181\n",
       "SHOPPING                172\n",
       "DATING                  165\n",
       "VIDEO_PLAYERS           136\n",
       "MAPS_AND_NAVIGATION     109\n",
       "EDUCATION                93\n",
       "FOOD_AND_DRINK           91\n",
       "LIBRARIES_AND_DEMO       81\n",
       "AUTO_AND_VEHICLES        78\n",
       "ENTERTAINMENT            69\n",
       "ART_AND_DESIGN           63\n",
       "HOUSE_AND_HOME           62\n",
       "EVENTS                   57\n",
       "PARENTING                57\n",
       "WEATHER                  57\n",
       "BEAUTY                   50\n",
       "COMICS                   49\n",
       "Name: count, dtype: int64"
      ]
     },
     "execution_count": 171,
     "metadata": {},
     "output_type": "execute_result"
    }
   ],
   "source": [
    "df_copy[\"Category\"].value_counts()"
   ]
  },
  {
   "cell_type": "code",
   "execution_count": 156,
   "id": "48e21f56-b76b-4666-9a97-699fe4f99f8a",
   "metadata": {},
   "outputs": [
    {
     "name": "stdout",
     "output_type": "stream",
     "text": [
      "['App', 'Category', 'Rating', 'Reviews', 'Size', 'Installs', 'Type', 'Price', 'Content Rating', 'Genres', 'Current Ver', 'Android Ver', 'Day', 'Month', 'Year']\n"
     ]
    }
   ],
   "source": [
    "print(df_copy.columns.tolist())"
   ]
  },
  {
   "cell_type": "code",
   "execution_count": 164,
   "id": "d589a8bc-d992-439b-8cbe-a6bc4a6cd726",
   "metadata": {},
   "outputs": [
    {
     "data": {
      "text/plain": [
       "App\n",
       "Subway Surfers      1000000000\n",
       "Temple Run 2         500000000\n",
       "Pou                  500000000\n",
       "My Talking Tom       500000000\n",
       "Candy Crush Saga     500000000\n",
       "Name: Installs, dtype: int64"
      ]
     },
     "execution_count": 164,
     "metadata": {},
     "output_type": "execute_result"
    }
   ],
   "source": [
    "games_df = df_copy[df_copy[\"Category\"] == \"GAME\"]\n",
    "games_df.groupby([\"App\"])[\"Installs\"].sum().sort_values(ascending =False).head(5)"
   ]
  },
  {
   "cell_type": "code",
   "execution_count": 163,
   "id": "517f9e04-7094-482e-a6be-a8d141d7b759",
   "metadata": {},
   "outputs": [
    {
     "name": "stdout",
     "output_type": "stream",
     "text": [
      "App\n",
      "Subway Surfers      1000000000\n",
      "Temple Run 2         500000000\n",
      "Pou                  500000000\n",
      "My Talking Tom       500000000\n",
      "Candy Crush Saga     500000000\n",
      "Name: Installs, dtype: int64\n"
     ]
    }
   ],
   "source": [
    "games_df = df_copy[df_copy[\"Category\"] == \"GAME\"]\n",
    "top_games = (\n",
    "    games_df.groupby(\"App\")[\"Installs\"]  # Installs ka sum chahiye\n",
    "    .sum()\n",
    "    .sort_values(ascending=False)\n",
    "    .head(5)\n",
    ")\n",
    "print(top_games)"
   ]
  },
  {
   "cell_type": "code",
   "execution_count": 167,
   "id": "d7a809a3-0b31-4f75-8322-de5eb81c685a",
   "metadata": {},
   "outputs": [
    {
     "data": {
      "text/plain": [
       "Category       Type\n",
       "GAME           Free    13066164300\n",
       "FAMILY         Free     3995075671\n",
       "TOOLS          Free     3005708474\n",
       "COMMUNICATION  Free     2652804001\n",
       "PHOTOGRAPHY    Free     2035268915\n",
       "Name: Installs, dtype: int64"
      ]
     },
     "execution_count": 167,
     "metadata": {},
     "output_type": "execute_result"
    }
   ],
   "source": [
    "df_copy.groupby([\"Category\",\"Type\"])[\"Installs\"].sum().sort_values(ascending =False).head(5)"
   ]
  },
  {
   "cell_type": "code",
   "execution_count": 168,
   "id": "a83f65dc-bcdd-4e68-8cca-a54ccfced5e6",
   "metadata": {},
   "outputs": [
    {
     "data": {
      "text/plain": [
       "Category       App                                        \n",
       "GAME           Clash of Clans                                 44891723\n",
       "               Subway Surfers                                 27722264\n",
       "               Clash Royale                                   23133508\n",
       "               Candy Crush Saga                               22426677\n",
       "COMMUNICATION  UC Browser - Fast Download Private & Secure    17712922\n",
       "Name: Reviews, dtype: int64"
      ]
     },
     "execution_count": 168,
     "metadata": {},
     "output_type": "execute_result"
    }
   ],
   "source": [
    "df_copy.groupby([\"Category\",\"App\"])[\"Reviews\"].sum().sort_values(ascending =False).head(5)"
   ]
  },
  {
   "cell_type": "code",
   "execution_count": 169,
   "id": "338e03d0-28e6-43ce-9760-1eb4d413f764",
   "metadata": {},
   "outputs": [
    {
     "name": "stdout",
     "output_type": "stream",
     "text": [
      "Category       App                                               \n",
      "GAME           Clash of Clans                                        44891723\n",
      "               Subway Surfers                                        27722264\n",
      "               Clash Royale                                          23133508\n",
      "               Candy Crush Saga                                      22426677\n",
      "COMMUNICATION  UC Browser - Fast Download Private & Secure           17712922\n",
      "GAME           My Talking Tom                                        14891223\n",
      "               8 Ball Pool                                           14198297\n",
      "TOOLS          DU Battery Saver - Battery Charger & Battery Life     13479633\n",
      "COMMUNICATION  BBM - Free Calls & Messages                           12842860\n",
      "TOOLS          Cache Cleaner-DU Speed Booster (booster & cleaner)    12759663\n",
      "Name: Reviews, dtype: int64\n"
     ]
    }
   ],
   "source": [
    "top_reviews = (\n",
    "    df_copy.groupby([\"Category\", \"App\"])[\"Reviews\"]\n",
    "    .sum()\n",
    "    .sort_values(ascending=False)\n",
    "    .head(10)  # top 10 combinations\n",
    ")\n",
    "\n",
    "print(top_reviews)\n"
   ]
  },
  {
   "cell_type": "code",
   "execution_count": null,
   "id": "ace63c93-a68f-4cf0-9e62-a0a588ee0dd4",
   "metadata": {},
   "outputs": [],
   "source": []
  }
 ],
 "metadata": {
  "kernelspec": {
   "display_name": "Python 3 (ipykernel)",
   "language": "python",
   "name": "python3"
  },
  "language_info": {
   "codemirror_mode": {
    "name": "ipython",
    "version": 3
   },
   "file_extension": ".py",
   "mimetype": "text/x-python",
   "name": "python",
   "nbconvert_exporter": "python",
   "pygments_lexer": "ipython3",
   "version": "3.13.0"
  }
 },
 "nbformat": 4,
 "nbformat_minor": 5
}
